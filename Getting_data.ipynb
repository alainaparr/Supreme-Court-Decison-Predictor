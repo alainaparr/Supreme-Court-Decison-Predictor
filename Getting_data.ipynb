{
  "nbformat": 4,
  "nbformat_minor": 0,
  "metadata": {
    "colab": {
      "provenance": []
    },
    "kernelspec": {
      "name": "python3",
      "display_name": "Python 3"
    },
    "language_info": {
      "name": "python"
    }
  },
  "cells": [
    {
      "cell_type": "code",
      "execution_count": null,
      "metadata": {
        "id": "pgMa5VOfw8-8",
        "colab": {
          "base_uri": "https://localhost:8080/"
        },
        "outputId": "4bbd81ee-25b2-4f88-c570-ae35f791e5e7"
      },
      "outputs": [
        {
          "output_type": "stream",
          "name": "stdout",
          "text": [
            "Mounted at /content/gdrive\n"
          ]
        }
      ],
      "source": [
        "from google.colab import drive\n",
        "drive.mount('/content/gdrive')"
      ]
    },
    {
      "cell_type": "code",
      "source": [
        "import pandas as pd\n",
        "\n",
        "df = pd.read_csv('/content/gdrive/MyDrive/supreme court/SCDB_2022_01_justiceCentered_Citation.csv', encoding='latin-1')"
      ],
      "metadata": {
        "id": "FOhKXZBy1Chh",
        "colab": {
          "base_uri": "https://localhost:8080/"
        },
        "outputId": "e911e067-ab3d-45c3-e8b0-dce2dfeec11a"
      },
      "execution_count": null,
      "outputs": [
        {
          "output_type": "stream",
          "name": "stderr",
          "text": [
            "<ipython-input-3-646f0e638f5b>:3: DtypeWarning: Columns (6,16) have mixed types. Specify dtype option on import or set low_memory=False.\n",
            "  df = pd.read_csv('/content/gdrive/MyDrive/supreme court/SCDB_2022_01_justiceCentered_Citation.csv', encoding='latin-1')\n"
          ]
        }
      ]
    },
    {
      "cell_type": "code",
      "source": [
        "import requests\n",
        "from bs4 import BeautifulSoup"
      ],
      "metadata": {
        "id": "UhYXPXVmXrt4"
      },
      "execution_count": null,
      "outputs": []
    },
    {
      "cell_type": "code",
      "source": [
        "df['justiceName'].unique()"
      ],
      "metadata": {
        "colab": {
          "base_uri": "https://localhost:8080/"
        },
        "id": "ijYe6kjX3TtZ",
        "outputId": "b7a40ac7-5466-47d7-8d35-f3dcee5b85dc"
      },
      "execution_count": null,
      "outputs": [
        {
          "output_type": "execute_result",
          "data": {
            "text/plain": [
              "array(['HHBurton', 'RHJackson', 'WODouglas', 'FFrankfurter', 'SFReed',\n",
              "       'HLBlack', 'WBRutledge', 'FMurphy', 'FMVinson', 'TCClark',\n",
              "       'SMinton', 'EWarren', 'JHarlan2', 'WJBrennan', 'CEWhittaker',\n",
              "       'PStewart', 'BRWhite', 'AJGoldberg', 'AFortas', 'TMarshall',\n",
              "       'WEBurger', 'HABlackmun', 'LFPowell', 'WHRehnquist', 'JPStevens',\n",
              "       'SDOConnor', 'AScalia', 'AMKennedy', 'DHSouter', 'CThomas',\n",
              "       'RBGinsburg', 'SGBreyer', 'JGRoberts', 'SAAlito', 'SSotomayor',\n",
              "       'EKagan', 'NMGorsuch', 'BMKavanaugh', 'ACBarrett'], dtype=object)"
            ]
          },
          "metadata": {},
          "execution_count": 5
        }
      ]
    },
    {
      "cell_type": "code",
      "source": [
        "df_JGRoberts = df[(df['justiceName']=='JGRoberts')]\n",
        "df_JGRoberts"
      ],
      "metadata": {
        "id": "x2XuB7n-6JwL"
      },
      "execution_count": null,
      "outputs": []
    },
    {
      "cell_type": "code",
      "source": [
        "df_AScalia = df[(df['vote']== 1.0) & (df['justiceName'] == 'AScalia')]\n",
        "# df_AScalia1 = df_AScalia[(df_AScalia['justiceName']=='AScalia')]\n",
        "df_AScalia\n",
        "\n"
      ],
      "metadata": {
        "id": "7vtjeM9G63ho"
      },
      "execution_count": null,
      "outputs": []
    },
    {
      "cell_type": "code",
      "source": [
        "df['vote'].unique() "
      ],
      "metadata": {
        "colab": {
          "base_uri": "https://localhost:8080/"
        },
        "id": "5s5-_9MW--wN",
        "outputId": "20f7f7c9-dfea-45e7-9953-14e6c8466856"
      },
      "execution_count": null,
      "outputs": [
        {
          "output_type": "execute_result",
          "data": {
            "text/plain": [
              "array([ 2.,  1.,  4., nan,  5.,  3.,  8.,  7.,  6.])"
            ]
          },
          "metadata": {},
          "execution_count": 55
        }
      ]
    },
    {
      "cell_type": "code",
      "source": [
        "df\n"
      ],
      "metadata": {
        "id": "X_H0n7Kq-fgC"
      },
      "execution_count": null,
      "outputs": []
    },
    {
      "cell_type": "code",
      "source": [
        "type(df['vote'][0])"
      ],
      "metadata": {
        "colab": {
          "base_uri": "https://localhost:8080/"
        },
        "id": "hY4iAbdy9FMv",
        "outputId": "e2d735e5-e59c-411d-abbc-ab88181a51cf"
      },
      "execution_count": null,
      "outputs": [
        {
          "output_type": "execute_result",
          "data": {
            "text/plain": [
              "numpy.float64"
            ]
          },
          "metadata": {},
          "execution_count": 41
        }
      ]
    },
    {
      "cell_type": "code",
      "source": [
        "type('1.0')"
      ],
      "metadata": {
        "colab": {
          "base_uri": "https://localhost:8080/"
        },
        "id": "TH1I2jRu9hyJ",
        "outputId": "770e186b-8cb1-4c8c-8ca2-8cf2c8c7101a"
      },
      "execution_count": null,
      "outputs": [
        {
          "output_type": "execute_result",
          "data": {
            "text/plain": [
              "str"
            ]
          },
          "metadata": {},
          "execution_count": 43
        }
      ]
    },
    {
      "cell_type": "code",
      "source": [
        "#direction"
      ],
      "metadata": {
        "id": "3wuMlFKDAUxm"
      },
      "execution_count": null,
      "outputs": []
    },
    {
      "cell_type": "code",
      "source": [
        "df_Roberts1 = df[(df['justiceName'] == 'JGRoberts')]\n",
        "df_Roberts2 = df_Roberts1[(df_Roberts1)['direction']== 1.0]\n",
        "df_Roberts1['direction']"
      ],
      "metadata": {
        "id": "dXWf5WbbApNx"
      },
      "execution_count": null,
      "outputs": []
    },
    {
      "cell_type": "code",
      "source": [
        "df_Roberts1 = df_Roberts1[(df_Roberts1)['direction'] > 0]"
      ],
      "metadata": {
        "id": "ih898ueiCEJG"
      },
      "execution_count": null,
      "outputs": []
    },
    {
      "cell_type": "code",
      "source": [
        "sum(df_Roberts1['direction']) / len(df_Roberts1['direction'])"
      ],
      "metadata": {
        "colab": {
          "base_uri": "https://localhost:8080/"
        },
        "id": "r0DjLwywCdee",
        "outputId": "6417e49c-2da6-48eb-a0cb-374480b75036"
      },
      "execution_count": null,
      "outputs": [
        {
          "output_type": "execute_result",
          "data": {
            "text/plain": [
              "1.4152473641524737"
            ]
          },
          "metadata": {},
          "execution_count": 70
        }
      ]
    },
    {
      "cell_type": "code",
      "source": [
        "df_case = df[(df['caseId']=='2021-069')]\n",
        "df_case\n"
      ],
      "metadata": {
        "id": "kVyELj9n8xl-"
      },
      "execution_count": null,
      "outputs": []
    },
    {
      "cell_type": "code",
      "source": [
        "case_prediction = 2.0"
      ],
      "metadata": {
        "id": "-E7bRS-NBFLw"
      },
      "execution_count": null,
      "outputs": []
    },
    {
      "cell_type": "code",
      "source": [
        "actual = df_case['decisionDirection'][82007]"
      ],
      "metadata": {
        "id": "p4MO1rphBG_u"
      },
      "execution_count": null,
      "outputs": []
    },
    {
      "cell_type": "code",
      "source": [
        "if case_prediction == actual:\n",
        "  print('True')\n",
        "  case_prediction = 2.0\n",
        "else:\n",
        "  print('False')\n",
        "  case_prediction = 0.0\n",
        "case_prediction"
      ],
      "metadata": {
        "colab": {
          "base_uri": "https://localhost:8080/"
        },
        "id": "-UezG2rCCG1N",
        "outputId": "951b5c97-8413-4471-d4b6-9615e5f94176"
      },
      "execution_count": null,
      "outputs": [
        {
          "output_type": "stream",
          "name": "stdout",
          "text": [
            "True\n"
          ]
        },
        {
          "output_type": "execute_result",
          "data": {
            "text/plain": [
              "2.0"
            ]
          },
          "metadata": {},
          "execution_count": 17
        }
      ]
    },
    {
      "cell_type": "code",
      "source": [
        "type(df['caseId'])"
      ],
      "metadata": {
        "colab": {
          "base_uri": "https://localhost:8080/"
        },
        "id": "QbVyrIGs-m7r",
        "outputId": "658833e8-6a05-4dff-e9e8-4b161f7d8019"
      },
      "execution_count": null,
      "outputs": [
        {
          "output_type": "execute_result",
          "data": {
            "text/plain": [
              "pandas.core.series.Series"
            ]
          },
          "metadata": {},
          "execution_count": 7
        }
      ]
    },
    {
      "cell_type": "code",
      "source": [
        "type('2021-069')"
      ],
      "metadata": {
        "colab": {
          "base_uri": "https://localhost:8080/"
        },
        "id": "3PZpdx-0_HDI",
        "outputId": "11fedbc7-9f74-494b-c5a8-a9a0fb5a4cd5"
      },
      "execution_count": null,
      "outputs": [
        {
          "output_type": "execute_result",
          "data": {
            "text/plain": [
              "str"
            ]
          },
          "metadata": {},
          "execution_count": 9
        }
      ]
    },
    {
      "cell_type": "code",
      "source": [
        "df['caseId'].unique()"
      ],
      "metadata": {
        "id": "bOUfKpDr-6S_"
      },
      "execution_count": null,
      "outputs": []
    },
    {
      "cell_type": "code",
      "source": [
        "def is_correct (predict, act):\n",
        "  if predict == act:\n",
        "    predict = True\n",
        "    \n",
        "  else:\n",
        "    predict = False\n",
        "\n",
        "\n",
        "  return predict"
      ],
      "metadata": {
        "id": "aC1rWpTiGWA4"
      },
      "execution_count": null,
      "outputs": []
    },
    {
      "cell_type": "code",
      "source": [
        "is_correct('predict', 'act')\n"
      ],
      "metadata": {
        "colab": {
          "base_uri": "https://localhost:8080/"
        },
        "id": "vmMemqxQI47-",
        "outputId": "176ca979-4b35-411d-b06c-bf1977d9e2e0"
      },
      "execution_count": null,
      "outputs": [
        {
          "output_type": "execute_result",
          "data": {
            "text/plain": [
              "False"
            ]
          },
          "metadata": {},
          "execution_count": 31
        }
      ]
    },
    {
      "cell_type": "code",
      "source": [
        "df_Barrett= df[(df['justiceName'] == 'ACBarrett')]\n",
        "df_Barrett\n"
      ],
      "metadata": {
        "id": "TiyP8yHMK263",
        "colab": {
          "base_uri": "https://localhost:8080/",
          "height": 505
        },
        "outputId": "269f8ca6-22fb-4f66-b33d-d79127a3f8a5"
      },
      "execution_count": null,
      "outputs": [
        {
          "output_type": "execute_result",
          "data": {
            "text/plain": [
              "         caseId     docketId    caseIssuesId                voteId  \\\n",
              "80853  2020-001  2020-001-01  2020-001-01-01  2020-001-01-01-01-09   \n",
              "80862  2020-002  2020-002-01  2020-002-01-01  2020-002-01-01-01-09   \n",
              "80871  2020-003  2020-003-01  2020-003-01-01  2020-003-01-01-01-09   \n",
              "80880  2020-004  2020-004-01  2020-004-01-01  2020-004-01-01-01-09   \n",
              "80889  2020-005  2020-005-01  2020-005-01-01  2020-005-01-01-01-09   \n",
              "...         ...          ...             ...                   ...   \n",
              "81978  2021-064  2021-064-01  2021-064-01-01  2021-064-01-01-01-09   \n",
              "81987  2021-066  2021-066-01  2021-066-01-01  2021-066-01-01-01-09   \n",
              "81996  2021-067  2021-067-01  2021-067-01-01  2021-067-01-01-01-09   \n",
              "82005  2021-068  2021-068-01  2021-068-01-01  2021-068-01-01-01-09   \n",
              "82014  2021-069  2021-069-01  2021-069-01-01  2021-069-01-01-01-09   \n",
              "\n",
              "      dateDecision  decisionType usCite          sctCite            ledCite  \\\n",
              "80853   12/14/2020             1    NaN   141 S. Ct. 509  208 L. Ed. 2d 343   \n",
              "80862   12/10/2020             1    NaN   141 S. Ct. 493  208 L. Ed. 2d 305   \n",
              "80871   12/10/2020             1    NaN   141 S. Ct. 486  208 L. Ed. 2d 295   \n",
              "80880   12/10/2020             1    NaN   141 S. Ct. 474  208 L. Ed. 2d 327   \n",
              "80889    3/25/2021             1    NaN  141 S. Ct. 1017  209 L. Ed. 2d 225   \n",
              "...            ...           ...    ...              ...                ...   \n",
              "81978     6/6/2022             1    NaN  142 S. Ct. 1770   213 L. Ed. 2d 39   \n",
              "81987    6/23/2022             1    NaN  142 S. Ct. 2095  213 L. Ed. 2d 479   \n",
              "81996    6/21/2022             1    NaN  142 S. Ct. 2037  213 L. Ed. 2d 318   \n",
              "82005    6/13/2022             1    NaN  142 S. Ct. 1856   213 L. Ed. 2d 90   \n",
              "82014    6/30/2022             1    NaN  142 S. Ct. 2528  213 L. Ed. 2d 956   \n",
              "\n",
              "                  lexisCite  ...  majVotes  minVotes justice justiceName vote  \\\n",
              "80853  2020 U.S. LEXIS 6091  ...         7         1     117   ACBarrett  NaN   \n",
              "80862  2020 U.S. LEXIS 5990  ...         8         0     117   ACBarrett  NaN   \n",
              "80871  2020 U.S. LEXIS 5987  ...         8         0     117   ACBarrett  NaN   \n",
              "80880  2020 U.S. LEXIS 5988  ...         8         0     117   ACBarrett  NaN   \n",
              "80889  2021 U.S. LEXIS 1610  ...         8         0     117   ACBarrett  NaN   \n",
              "...                     ...  ...       ...       ...     ...         ...  ...   \n",
              "81978  2022 U.S. LEXIS 2681  ...         9         0     117   ACBarrett  1.0   \n",
              "81987  2022 U.S. LEXIS 3053  ...         6         3     117   ACBarrett  1.0   \n",
              "81996  2022 U.S. LEXIS 3008  ...         5         4     117   ACBarrett  1.0   \n",
              "82005  2022 U.S. LEXIS 2835  ...         8         1     117   ACBarrett  1.0   \n",
              "82014  2022 U.S. LEXIS 3269  ...         5         4     117   ACBarrett  2.0   \n",
              "\n",
              "      opinion direction  majority  firstAgreement  secondAgreement  \n",
              "80853     NaN       NaN       NaN             NaN              NaN  \n",
              "80862     NaN       NaN       NaN             NaN              NaN  \n",
              "80871     NaN       NaN       NaN             NaN              NaN  \n",
              "80880     NaN       NaN       NaN             NaN              NaN  \n",
              "80889     NaN       NaN       NaN             NaN              NaN  \n",
              "...       ...       ...       ...             ...              ...  \n",
              "81978     1.0       2.0       2.0             0.0              0.0  \n",
              "81987     1.0       1.0       2.0             0.0              0.0  \n",
              "81996     1.0       1.0       2.0             0.0              0.0  \n",
              "82005     1.0       1.0       2.0             NaN              NaN  \n",
              "82014     2.0       1.0       1.0             NaN              NaN  \n",
              "\n",
              "[130 rows x 61 columns]"
            ],
            "text/html": [
              "\n",
              "  <div id=\"df-930e53b3-c3f9-48da-9fb7-ab66b6c4d3a3\">\n",
              "    <div class=\"colab-df-container\">\n",
              "      <div>\n",
              "<style scoped>\n",
              "    .dataframe tbody tr th:only-of-type {\n",
              "        vertical-align: middle;\n",
              "    }\n",
              "\n",
              "    .dataframe tbody tr th {\n",
              "        vertical-align: top;\n",
              "    }\n",
              "\n",
              "    .dataframe thead th {\n",
              "        text-align: right;\n",
              "    }\n",
              "</style>\n",
              "<table border=\"1\" class=\"dataframe\">\n",
              "  <thead>\n",
              "    <tr style=\"text-align: right;\">\n",
              "      <th></th>\n",
              "      <th>caseId</th>\n",
              "      <th>docketId</th>\n",
              "      <th>caseIssuesId</th>\n",
              "      <th>voteId</th>\n",
              "      <th>dateDecision</th>\n",
              "      <th>decisionType</th>\n",
              "      <th>usCite</th>\n",
              "      <th>sctCite</th>\n",
              "      <th>ledCite</th>\n",
              "      <th>lexisCite</th>\n",
              "      <th>...</th>\n",
              "      <th>majVotes</th>\n",
              "      <th>minVotes</th>\n",
              "      <th>justice</th>\n",
              "      <th>justiceName</th>\n",
              "      <th>vote</th>\n",
              "      <th>opinion</th>\n",
              "      <th>direction</th>\n",
              "      <th>majority</th>\n",
              "      <th>firstAgreement</th>\n",
              "      <th>secondAgreement</th>\n",
              "    </tr>\n",
              "  </thead>\n",
              "  <tbody>\n",
              "    <tr>\n",
              "      <th>80853</th>\n",
              "      <td>2020-001</td>\n",
              "      <td>2020-001-01</td>\n",
              "      <td>2020-001-01-01</td>\n",
              "      <td>2020-001-01-01-01-09</td>\n",
              "      <td>12/14/2020</td>\n",
              "      <td>1</td>\n",
              "      <td>NaN</td>\n",
              "      <td>141 S. Ct. 509</td>\n",
              "      <td>208 L. Ed. 2d 343</td>\n",
              "      <td>2020 U.S. LEXIS 6091</td>\n",
              "      <td>...</td>\n",
              "      <td>7</td>\n",
              "      <td>1</td>\n",
              "      <td>117</td>\n",
              "      <td>ACBarrett</td>\n",
              "      <td>NaN</td>\n",
              "      <td>NaN</td>\n",
              "      <td>NaN</td>\n",
              "      <td>NaN</td>\n",
              "      <td>NaN</td>\n",
              "      <td>NaN</td>\n",
              "    </tr>\n",
              "    <tr>\n",
              "      <th>80862</th>\n",
              "      <td>2020-002</td>\n",
              "      <td>2020-002-01</td>\n",
              "      <td>2020-002-01-01</td>\n",
              "      <td>2020-002-01-01-01-09</td>\n",
              "      <td>12/10/2020</td>\n",
              "      <td>1</td>\n",
              "      <td>NaN</td>\n",
              "      <td>141 S. Ct. 493</td>\n",
              "      <td>208 L. Ed. 2d 305</td>\n",
              "      <td>2020 U.S. LEXIS 5990</td>\n",
              "      <td>...</td>\n",
              "      <td>8</td>\n",
              "      <td>0</td>\n",
              "      <td>117</td>\n",
              "      <td>ACBarrett</td>\n",
              "      <td>NaN</td>\n",
              "      <td>NaN</td>\n",
              "      <td>NaN</td>\n",
              "      <td>NaN</td>\n",
              "      <td>NaN</td>\n",
              "      <td>NaN</td>\n",
              "    </tr>\n",
              "    <tr>\n",
              "      <th>80871</th>\n",
              "      <td>2020-003</td>\n",
              "      <td>2020-003-01</td>\n",
              "      <td>2020-003-01-01</td>\n",
              "      <td>2020-003-01-01-01-09</td>\n",
              "      <td>12/10/2020</td>\n",
              "      <td>1</td>\n",
              "      <td>NaN</td>\n",
              "      <td>141 S. Ct. 486</td>\n",
              "      <td>208 L. Ed. 2d 295</td>\n",
              "      <td>2020 U.S. LEXIS 5987</td>\n",
              "      <td>...</td>\n",
              "      <td>8</td>\n",
              "      <td>0</td>\n",
              "      <td>117</td>\n",
              "      <td>ACBarrett</td>\n",
              "      <td>NaN</td>\n",
              "      <td>NaN</td>\n",
              "      <td>NaN</td>\n",
              "      <td>NaN</td>\n",
              "      <td>NaN</td>\n",
              "      <td>NaN</td>\n",
              "    </tr>\n",
              "    <tr>\n",
              "      <th>80880</th>\n",
              "      <td>2020-004</td>\n",
              "      <td>2020-004-01</td>\n",
              "      <td>2020-004-01-01</td>\n",
              "      <td>2020-004-01-01-01-09</td>\n",
              "      <td>12/10/2020</td>\n",
              "      <td>1</td>\n",
              "      <td>NaN</td>\n",
              "      <td>141 S. Ct. 474</td>\n",
              "      <td>208 L. Ed. 2d 327</td>\n",
              "      <td>2020 U.S. LEXIS 5988</td>\n",
              "      <td>...</td>\n",
              "      <td>8</td>\n",
              "      <td>0</td>\n",
              "      <td>117</td>\n",
              "      <td>ACBarrett</td>\n",
              "      <td>NaN</td>\n",
              "      <td>NaN</td>\n",
              "      <td>NaN</td>\n",
              "      <td>NaN</td>\n",
              "      <td>NaN</td>\n",
              "      <td>NaN</td>\n",
              "    </tr>\n",
              "    <tr>\n",
              "      <th>80889</th>\n",
              "      <td>2020-005</td>\n",
              "      <td>2020-005-01</td>\n",
              "      <td>2020-005-01-01</td>\n",
              "      <td>2020-005-01-01-01-09</td>\n",
              "      <td>3/25/2021</td>\n",
              "      <td>1</td>\n",
              "      <td>NaN</td>\n",
              "      <td>141 S. Ct. 1017</td>\n",
              "      <td>209 L. Ed. 2d 225</td>\n",
              "      <td>2021 U.S. LEXIS 1610</td>\n",
              "      <td>...</td>\n",
              "      <td>8</td>\n",
              "      <td>0</td>\n",
              "      <td>117</td>\n",
              "      <td>ACBarrett</td>\n",
              "      <td>NaN</td>\n",
              "      <td>NaN</td>\n",
              "      <td>NaN</td>\n",
              "      <td>NaN</td>\n",
              "      <td>NaN</td>\n",
              "      <td>NaN</td>\n",
              "    </tr>\n",
              "    <tr>\n",
              "      <th>...</th>\n",
              "      <td>...</td>\n",
              "      <td>...</td>\n",
              "      <td>...</td>\n",
              "      <td>...</td>\n",
              "      <td>...</td>\n",
              "      <td>...</td>\n",
              "      <td>...</td>\n",
              "      <td>...</td>\n",
              "      <td>...</td>\n",
              "      <td>...</td>\n",
              "      <td>...</td>\n",
              "      <td>...</td>\n",
              "      <td>...</td>\n",
              "      <td>...</td>\n",
              "      <td>...</td>\n",
              "      <td>...</td>\n",
              "      <td>...</td>\n",
              "      <td>...</td>\n",
              "      <td>...</td>\n",
              "      <td>...</td>\n",
              "      <td>...</td>\n",
              "    </tr>\n",
              "    <tr>\n",
              "      <th>81978</th>\n",
              "      <td>2021-064</td>\n",
              "      <td>2021-064-01</td>\n",
              "      <td>2021-064-01-01</td>\n",
              "      <td>2021-064-01-01-01-09</td>\n",
              "      <td>6/6/2022</td>\n",
              "      <td>1</td>\n",
              "      <td>NaN</td>\n",
              "      <td>142 S. Ct. 1770</td>\n",
              "      <td>213 L. Ed. 2d 39</td>\n",
              "      <td>2022 U.S. LEXIS 2681</td>\n",
              "      <td>...</td>\n",
              "      <td>9</td>\n",
              "      <td>0</td>\n",
              "      <td>117</td>\n",
              "      <td>ACBarrett</td>\n",
              "      <td>1.0</td>\n",
              "      <td>1.0</td>\n",
              "      <td>2.0</td>\n",
              "      <td>2.0</td>\n",
              "      <td>0.0</td>\n",
              "      <td>0.0</td>\n",
              "    </tr>\n",
              "    <tr>\n",
              "      <th>81987</th>\n",
              "      <td>2021-066</td>\n",
              "      <td>2021-066-01</td>\n",
              "      <td>2021-066-01-01</td>\n",
              "      <td>2021-066-01-01-01-09</td>\n",
              "      <td>6/23/2022</td>\n",
              "      <td>1</td>\n",
              "      <td>NaN</td>\n",
              "      <td>142 S. Ct. 2095</td>\n",
              "      <td>213 L. Ed. 2d 479</td>\n",
              "      <td>2022 U.S. LEXIS 3053</td>\n",
              "      <td>...</td>\n",
              "      <td>6</td>\n",
              "      <td>3</td>\n",
              "      <td>117</td>\n",
              "      <td>ACBarrett</td>\n",
              "      <td>1.0</td>\n",
              "      <td>1.0</td>\n",
              "      <td>1.0</td>\n",
              "      <td>2.0</td>\n",
              "      <td>0.0</td>\n",
              "      <td>0.0</td>\n",
              "    </tr>\n",
              "    <tr>\n",
              "      <th>81996</th>\n",
              "      <td>2021-067</td>\n",
              "      <td>2021-067-01</td>\n",
              "      <td>2021-067-01-01</td>\n",
              "      <td>2021-067-01-01-01-09</td>\n",
              "      <td>6/21/2022</td>\n",
              "      <td>1</td>\n",
              "      <td>NaN</td>\n",
              "      <td>142 S. Ct. 2037</td>\n",
              "      <td>213 L. Ed. 2d 318</td>\n",
              "      <td>2022 U.S. LEXIS 3008</td>\n",
              "      <td>...</td>\n",
              "      <td>5</td>\n",
              "      <td>4</td>\n",
              "      <td>117</td>\n",
              "      <td>ACBarrett</td>\n",
              "      <td>1.0</td>\n",
              "      <td>1.0</td>\n",
              "      <td>1.0</td>\n",
              "      <td>2.0</td>\n",
              "      <td>0.0</td>\n",
              "      <td>0.0</td>\n",
              "    </tr>\n",
              "    <tr>\n",
              "      <th>82005</th>\n",
              "      <td>2021-068</td>\n",
              "      <td>2021-068-01</td>\n",
              "      <td>2021-068-01-01</td>\n",
              "      <td>2021-068-01-01-01-09</td>\n",
              "      <td>6/13/2022</td>\n",
              "      <td>1</td>\n",
              "      <td>NaN</td>\n",
              "      <td>142 S. Ct. 1856</td>\n",
              "      <td>213 L. Ed. 2d 90</td>\n",
              "      <td>2022 U.S. LEXIS 2835</td>\n",
              "      <td>...</td>\n",
              "      <td>8</td>\n",
              "      <td>1</td>\n",
              "      <td>117</td>\n",
              "      <td>ACBarrett</td>\n",
              "      <td>1.0</td>\n",
              "      <td>1.0</td>\n",
              "      <td>1.0</td>\n",
              "      <td>2.0</td>\n",
              "      <td>NaN</td>\n",
              "      <td>NaN</td>\n",
              "    </tr>\n",
              "    <tr>\n",
              "      <th>82014</th>\n",
              "      <td>2021-069</td>\n",
              "      <td>2021-069-01</td>\n",
              "      <td>2021-069-01-01</td>\n",
              "      <td>2021-069-01-01-01-09</td>\n",
              "      <td>6/30/2022</td>\n",
              "      <td>1</td>\n",
              "      <td>NaN</td>\n",
              "      <td>142 S. Ct. 2528</td>\n",
              "      <td>213 L. Ed. 2d 956</td>\n",
              "      <td>2022 U.S. LEXIS 3269</td>\n",
              "      <td>...</td>\n",
              "      <td>5</td>\n",
              "      <td>4</td>\n",
              "      <td>117</td>\n",
              "      <td>ACBarrett</td>\n",
              "      <td>2.0</td>\n",
              "      <td>2.0</td>\n",
              "      <td>1.0</td>\n",
              "      <td>1.0</td>\n",
              "      <td>NaN</td>\n",
              "      <td>NaN</td>\n",
              "    </tr>\n",
              "  </tbody>\n",
              "</table>\n",
              "<p>130 rows × 61 columns</p>\n",
              "</div>\n",
              "      <button class=\"colab-df-convert\" onclick=\"convertToInteractive('df-930e53b3-c3f9-48da-9fb7-ab66b6c4d3a3')\"\n",
              "              title=\"Convert this dataframe to an interactive table.\"\n",
              "              style=\"display:none;\">\n",
              "        \n",
              "  <svg xmlns=\"http://www.w3.org/2000/svg\" height=\"24px\"viewBox=\"0 0 24 24\"\n",
              "       width=\"24px\">\n",
              "    <path d=\"M0 0h24v24H0V0z\" fill=\"none\"/>\n",
              "    <path d=\"M18.56 5.44l.94 2.06.94-2.06 2.06-.94-2.06-.94-.94-2.06-.94 2.06-2.06.94zm-11 1L8.5 8.5l.94-2.06 2.06-.94-2.06-.94L8.5 2.5l-.94 2.06-2.06.94zm10 10l.94 2.06.94-2.06 2.06-.94-2.06-.94-.94-2.06-.94 2.06-2.06.94z\"/><path d=\"M17.41 7.96l-1.37-1.37c-.4-.4-.92-.59-1.43-.59-.52 0-1.04.2-1.43.59L10.3 9.45l-7.72 7.72c-.78.78-.78 2.05 0 2.83L4 21.41c.39.39.9.59 1.41.59.51 0 1.02-.2 1.41-.59l7.78-7.78 2.81-2.81c.8-.78.8-2.07 0-2.86zM5.41 20L4 18.59l7.72-7.72 1.47 1.35L5.41 20z\"/>\n",
              "  </svg>\n",
              "      </button>\n",
              "      \n",
              "  <style>\n",
              "    .colab-df-container {\n",
              "      display:flex;\n",
              "      flex-wrap:wrap;\n",
              "      gap: 12px;\n",
              "    }\n",
              "\n",
              "    .colab-df-convert {\n",
              "      background-color: #E8F0FE;\n",
              "      border: none;\n",
              "      border-radius: 50%;\n",
              "      cursor: pointer;\n",
              "      display: none;\n",
              "      fill: #1967D2;\n",
              "      height: 32px;\n",
              "      padding: 0 0 0 0;\n",
              "      width: 32px;\n",
              "    }\n",
              "\n",
              "    .colab-df-convert:hover {\n",
              "      background-color: #E2EBFA;\n",
              "      box-shadow: 0px 1px 2px rgba(60, 64, 67, 0.3), 0px 1px 3px 1px rgba(60, 64, 67, 0.15);\n",
              "      fill: #174EA6;\n",
              "    }\n",
              "\n",
              "    [theme=dark] .colab-df-convert {\n",
              "      background-color: #3B4455;\n",
              "      fill: #D2E3FC;\n",
              "    }\n",
              "\n",
              "    [theme=dark] .colab-df-convert:hover {\n",
              "      background-color: #434B5C;\n",
              "      box-shadow: 0px 1px 3px 1px rgba(0, 0, 0, 0.15);\n",
              "      filter: drop-shadow(0px 1px 2px rgba(0, 0, 0, 0.3));\n",
              "      fill: #FFFFFF;\n",
              "    }\n",
              "  </style>\n",
              "\n",
              "      <script>\n",
              "        const buttonEl =\n",
              "          document.querySelector('#df-930e53b3-c3f9-48da-9fb7-ab66b6c4d3a3 button.colab-df-convert');\n",
              "        buttonEl.style.display =\n",
              "          google.colab.kernel.accessAllowed ? 'block' : 'none';\n",
              "\n",
              "        async function convertToInteractive(key) {\n",
              "          const element = document.querySelector('#df-930e53b3-c3f9-48da-9fb7-ab66b6c4d3a3');\n",
              "          const dataTable =\n",
              "            await google.colab.kernel.invokeFunction('convertToInteractive',\n",
              "                                                     [key], {});\n",
              "          if (!dataTable) return;\n",
              "\n",
              "          const docLinkHtml = 'Like what you see? Visit the ' +\n",
              "            '<a target=\"_blank\" href=https://colab.research.google.com/notebooks/data_table.ipynb>data table notebook</a>'\n",
              "            + ' to learn more about interactive tables.';\n",
              "          element.innerHTML = '';\n",
              "          dataTable['output_type'] = 'display_data';\n",
              "          await google.colab.output.renderOutput(dataTable, element);\n",
              "          const docLink = document.createElement('div');\n",
              "          docLink.innerHTML = docLinkHtml;\n",
              "          element.appendChild(docLink);\n",
              "        }\n",
              "      </script>\n",
              "    </div>\n",
              "  </div>\n",
              "  "
            ]
          },
          "metadata": {},
          "execution_count": 5
        },
        {
          "output_type": "stream",
          "name": "stdout",
          "text": [
            "Warning: Total number of columns (61) exceeds max_columns (20) limiting to first (20) columns.\n"
          ]
        }
      ]
    },
    {
      "cell_type": "code",
      "source": [
        "def base_model_score(df_len,true_sum):\n",
        "  return true_sum / df_len"
      ],
      "metadata": {
        "id": "BL5W26ymakgC"
      },
      "execution_count": null,
      "outputs": []
    },
    {
      "cell_type": "code",
      "source": [
        " def data_Barrett():\n",
        "  actual = 2.0\n",
        "  true_sum = 0\n",
        "  df_Barrett= df[(df['justiceName'] == 'ACBarrett')]\n",
        "\n",
        "  for x in range(len(df_Barrett)):\n",
        "  \n",
        "    df_Barrett = df_Barrett[df_Barrett['decisionDirection'] != \"nan\"]\n",
        "\n",
        "    decisionDirection = df_Barrett['decisionDirection'].iloc[x-1]\n",
        "    prediction = is_correct(decisionDirection, actual)\n",
        "    \n",
        "\n",
        "    #print (f\"Decision Direction: {actual}, Actual: {decisionDirection}, Prediction: {prediction}\")\n",
        "\n",
        "    if prediction == True:\n",
        "      true_sum += 1\n",
        "      \n",
        "\n",
        "      score_1 = base_model_score(len(df_Barrett), true_sum)\n",
        "\n",
        "  print(f\"True Sum: {true_sum}\")\n",
        "  print(f\"Score: {score_1}\")\n"
      ],
      "metadata": {
        "id": "egX-8dwlLyUO"
      },
      "execution_count": null,
      "outputs": []
    },
    {
      "cell_type": "code",
      "source": [
        "data_Barrett()"
      ],
      "metadata": {
        "id": "I10OI62Id-4k"
      },
      "execution_count": null,
      "outputs": []
    },
    {
      "cell_type": "code",
      "source": [
        "#Roberts\n",
        "df_Roberts1 = df[(df['justiceName'] == 'JGRoberts')]\n",
        "df_Roberts2 = df_Roberts1[(df_Roberts1)['direction']== 1.0]\n",
        "df_Roberts1['direction']"
      ],
      "metadata": {
        "id": "Vae-sGN537Sr"
      },
      "execution_count": null,
      "outputs": []
    },
    {
      "cell_type": "code",
      "source": [
        "df_Roberts1 = df_Roberts1[(df_Roberts1)['direction'] > 0]"
      ],
      "metadata": {
        "id": "rzg_7uF5395V"
      },
      "execution_count": null,
      "outputs": []
    },
    {
      "cell_type": "code",
      "source": [
        "Roberts = sum(df_Roberts1['direction']) / len(df_Roberts1['direction'])\n",
        "Roberts"
      ],
      "metadata": {
        "colab": {
          "base_uri": "https://localhost:8080/"
        },
        "id": "2ycUSTJw3_th",
        "outputId": "c7eed18e-d296-4391-e318-858451be14db"
      },
      "execution_count": null,
      "outputs": [
        {
          "output_type": "execute_result",
          "data": {
            "text/plain": [
              "1.4152473641524737"
            ]
          },
          "metadata": {},
          "execution_count": 35
        }
      ]
    },
    {
      "cell_type": "code",
      "source": [
        "#Thomas\n",
        "df_CThomas1 = df[(df['justiceName'] == 'CThomas')]\n",
        "df_CThomas2 = df_CThomas1[(df_CThomas1)['direction']== 1.0]\n",
        "df_CThomas1['direction']"
      ],
      "metadata": {
        "id": "uwdXc_G74I0O"
      },
      "execution_count": null,
      "outputs": []
    },
    {
      "cell_type": "code",
      "source": [
        "df_CThomas1 = df_CThomas1[(df_CThomas1)['direction'] > 0]"
      ],
      "metadata": {
        "id": "o7cf7QoB5aM1"
      },
      "execution_count": null,
      "outputs": []
    },
    {
      "cell_type": "code",
      "source": [
        "Thomas = sum(df_CThomas1['direction']) / len(df_CThomas1['direction'])\n",
        "Thomas"
      ],
      "metadata": {
        "colab": {
          "base_uri": "https://localhost:8080/"
        },
        "id": "BHiLWL715nPe",
        "outputId": "c42a9d56-1e24-479f-9985-ae454aba6ad8"
      },
      "execution_count": null,
      "outputs": [
        {
          "output_type": "execute_result",
          "data": {
            "text/plain": [
              "1.3221153846153846"
            ]
          },
          "metadata": {},
          "execution_count": 36
        }
      ]
    },
    {
      "cell_type": "code",
      "source": [
        "#Sotomayor\n",
        "df_SSotomayor1 = df[(df['justiceName'] == 'SSotomayor')]\n",
        "df_SSotomayor2 = df_SSotomayor1[(df_SSotomayor1)['direction']== 1.0]\n",
        "df_SSotomayor1['direction']"
      ],
      "metadata": {
        "colab": {
          "base_uri": "https://localhost:8080/"
        },
        "id": "Qw57tmRz5_BW",
        "outputId": "787e9d64-b5f0-4708-8f2a-19af246477d0"
      },
      "execution_count": null,
      "outputs": [
        {
          "output_type": "execute_result",
          "data": {
            "text/plain": [
              "73372    1.0\n",
              "73381    1.0\n",
              "73390    2.0\n",
              "73399    1.0\n",
              "73408    2.0\n",
              "        ... \n",
              "81974    2.0\n",
              "81983    2.0\n",
              "81992    2.0\n",
              "82001    1.0\n",
              "82010    2.0\n",
              "Name: direction, Length: 971, dtype: float64"
            ]
          },
          "metadata": {},
          "execution_count": 16
        }
      ]
    },
    {
      "cell_type": "code",
      "source": [
        "df_SSotomayor1 = df_SSotomayor1[(df_SSotomayor1)['direction'] > 0]"
      ],
      "metadata": {
        "id": "qj6XHh1M6k12"
      },
      "execution_count": null,
      "outputs": []
    },
    {
      "cell_type": "code",
      "source": [
        "Sotomayor = sum(df_SSotomayor1['direction']) / len(df_SSotomayor1['direction'])\n",
        "Sotomayor"
      ],
      "metadata": {
        "colab": {
          "base_uri": "https://localhost:8080/"
        },
        "id": "B43zGxUf6v6V",
        "outputId": "fee2f2e2-9157-4ee3-cc23-95ea964c4bab"
      },
      "execution_count": null,
      "outputs": [
        {
          "output_type": "execute_result",
          "data": {
            "text/plain": [
              "1.6376496191512513"
            ]
          },
          "metadata": {},
          "execution_count": 37
        }
      ]
    },
    {
      "cell_type": "code",
      "source": [
        "#Kagan\n",
        "df_EKagan1 = df[(df['justiceName'] == 'EKagan')]\n",
        "df_EKagan2 = df_EKagan1[(df_EKagan1)['direction']== 1.0]\n",
        "df_EKagan1['direction']"
      ],
      "metadata": {
        "id": "BzqXoPfI68GH"
      },
      "execution_count": null,
      "outputs": []
    },
    {
      "cell_type": "code",
      "source": [
        "df_EKagan1 = df_EKagan1[(df_EKagan1)['direction'] > 0]"
      ],
      "metadata": {
        "id": "BvOoDLFh7VX5"
      },
      "execution_count": null,
      "outputs": []
    },
    {
      "cell_type": "code",
      "source": [
        "Kagan = sum(df_EKagan1['direction']) / len(df_EKagan1['direction'])\n",
        "Kagan"
      ],
      "metadata": {
        "colab": {
          "base_uri": "https://localhost:8080/"
        },
        "id": "iyUxAgxj7d-T",
        "outputId": "57d47395-dbe8-443d-d180-3a8c6311d349"
      },
      "execution_count": null,
      "outputs": [
        {
          "output_type": "execute_result",
          "data": {
            "text/plain": [
              "1.609238451935081"
            ]
          },
          "metadata": {},
          "execution_count": 38
        }
      ]
    },
    {
      "cell_type": "code",
      "source": [
        "#Gorsuch\n",
        "df_NMGorsuch1 = df[(df['justiceName'] == 'NMGorsuch')]\n",
        "df_NMGorsuch2 = df_NMGorsuch1[(df_NMGorsuch1)['direction']== 1.0]\n",
        "df_NMGorsuch1['direction']"
      ],
      "metadata": {
        "id": "FANPn9Sw7rWa"
      },
      "execution_count": null,
      "outputs": []
    },
    {
      "cell_type": "code",
      "source": [
        "df_NMGorsuch1 = df_NMGorsuch1[(df_NMGorsuch1)['direction'] > 0]"
      ],
      "metadata": {
        "id": "Av4HKEUm8I-9"
      },
      "execution_count": null,
      "outputs": []
    },
    {
      "cell_type": "code",
      "source": [
        "Gorsuch = sum(df_NMGorsuch1['direction']) / len(df_NMGorsuch1['direction'])\n",
        "Gorsuch"
      ],
      "metadata": {
        "colab": {
          "base_uri": "https://localhost:8080/"
        },
        "id": "f56iH4yU8Rix",
        "outputId": "100e5a38-da4a-4178-f97d-e94ba5610092"
      },
      "execution_count": null,
      "outputs": [
        {
          "output_type": "execute_result",
          "data": {
            "text/plain": [
              "1.3944954128440368"
            ]
          },
          "metadata": {},
          "execution_count": 39
        }
      ]
    },
    {
      "cell_type": "code",
      "source": [
        "#Kavanaugh\n",
        "df_BMKavanaugh1= df[(df['justiceName'] == 'BMKavanaugh')]\n",
        "df_BMKavanaugh2 = df_BMKavanaugh1[(df_BMKavanaugh1)['direction']== 1.0]\n",
        "df_BMKavanaugh1['direction']"
      ],
      "metadata": {
        "id": "ilkIHenQ8pVb"
      },
      "execution_count": null,
      "outputs": []
    },
    {
      "cell_type": "code",
      "source": [
        "df_BMKavanaugh1 = df_BMKavanaugh1[(df_BMKavanaugh1)['direction'] > 0]"
      ],
      "metadata": {
        "id": "IMi0PKY69CvP"
      },
      "execution_count": null,
      "outputs": []
    },
    {
      "cell_type": "code",
      "source": [
        "Kavanaugh = sum(df_BMKavanaugh1['direction']) / len(df_BMKavanaugh1['direction'])\n",
        "Kavanaugh"
      ],
      "metadata": {
        "colab": {
          "base_uri": "https://localhost:8080/"
        },
        "id": "BUGYkOe59MVP",
        "outputId": "40bcf323-c365-459d-ad54-ced1fe6f1c9b"
      },
      "execution_count": null,
      "outputs": [
        {
          "output_type": "execute_result",
          "data": {
            "text/plain": [
              "1.3833333333333333"
            ]
          },
          "metadata": {},
          "execution_count": 40
        }
      ]
    },
    {
      "cell_type": "code",
      "source": [
        "#Barrett\n",
        "df_ACBarrett1 = df[(df['justiceName'] == 'ACBarrett')]\n",
        "df_ACBarrett2 = df_ACBarrett1[(df_ACBarrett1)['direction']== 1.0]\n",
        "df_ACBarrett1['direction']"
      ],
      "metadata": {
        "id": "d6b1WL229Z_W"
      },
      "execution_count": null,
      "outputs": []
    },
    {
      "cell_type": "code",
      "source": [
        "df_ACBarrett1 = df_ACBarrett1[(df_ACBarrett1)['direction'] > 0]"
      ],
      "metadata": {
        "id": "4Q9D138J98KA"
      },
      "execution_count": null,
      "outputs": []
    },
    {
      "cell_type": "code",
      "source": [
        "Barrett = sum(df_ACBarrett1['direction']) / len(df_ACBarrett1['direction'])\n",
        "Barrett"
      ],
      "metadata": {
        "colab": {
          "base_uri": "https://localhost:8080/"
        },
        "id": "DdqThw5V-F8_",
        "outputId": "b23334be-9e74-4a13-f00d-24b3f04e0afc"
      },
      "execution_count": null,
      "outputs": [
        {
          "output_type": "execute_result",
          "data": {
            "text/plain": [
              "1.290909090909091"
            ]
          },
          "metadata": {},
          "execution_count": 41
        }
      ]
    },
    {
      "cell_type": "code",
      "source": [
        "#Breyer\n",
        "df_SGBreyer1 = df[(df['justiceName'] == 'SGBreyer')]\n",
        "df_SGBreyer2 = df_SGBreyer1[(df_SGBreyer1)['direction']== 1.0]\n",
        "df_SGBreyer1['direction']"
      ],
      "metadata": {
        "id": "EaUKu3yG-Opa"
      },
      "execution_count": null,
      "outputs": []
    },
    {
      "cell_type": "code",
      "source": [
        "df_SGBreyer1 = df_SGBreyer1[(df_SGBreyer1)['direction'] > 0]"
      ],
      "metadata": {
        "id": "6wEvD5jX-5Bc"
      },
      "execution_count": null,
      "outputs": []
    },
    {
      "cell_type": "code",
      "source": [
        "Breyer = sum(df_SGBreyer1['direction']) / len(df_SGBreyer1['direction'])\n",
        "Breyer"
      ],
      "metadata": {
        "colab": {
          "base_uri": "https://localhost:8080/"
        },
        "id": "etXhelol_Du3",
        "outputId": "04690b09-cb34-4827-f3b8-165127c1488b"
      },
      "execution_count": null,
      "outputs": [
        {
          "output_type": "execute_result",
          "data": {
            "text/plain": [
              "1.5705719557195572"
            ]
          },
          "metadata": {},
          "execution_count": 50
        }
      ]
    },
    {
      "cell_type": "code",
      "source": [
        "Roberts, Thomas, Sotomayor, Kagan, Gorsuch, Kavanaugh, Barrett, Breyer"
      ],
      "metadata": {
        "colab": {
          "base_uri": "https://localhost:8080/"
        },
        "id": "qb1-60AZAEju",
        "outputId": "b2f080ac-28cf-461c-f763-bae3455bba5e"
      },
      "execution_count": null,
      "outputs": [
        {
          "output_type": "execute_result",
          "data": {
            "text/plain": [
              "(1.4152473641524737,\n",
              " 1.3221153846153846,\n",
              " 1.6376496191512513,\n",
              " 1.609238451935081,\n",
              " 1.3944954128440368,\n",
              " 1.3833333333333333,\n",
              " 1.290909090909091,\n",
              " 1.5705719557195572)"
            ]
          },
          "metadata": {},
          "execution_count": 49
        }
      ]
    },
    {
      "cell_type": "code",
      "source": [
        "#ROBERTS"
      ],
      "metadata": {
        "id": "mOPfdJCusJ7z"
      },
      "execution_count": null,
      "outputs": []
    },
    {
      "cell_type": "code",
      "source": [
        "for i in range(14):\n",
        "  df_Robertss = df[(df['justiceName'] == 'JGRoberts')]\n",
        "  df_Robertss2 = df_Robertss[(df_Robertss)['issueArea']== i+1]\n",
        "  df_Robertss['direction']\n",
        "  df_Robertss = df_Robertss2[(df_Robertss)['direction'] > 0]\n",
        "  try:\n",
        "    Roberts3 = sum(df_Robertss['direction']) / len(df_Robertss['direction'])\n",
        "  except:\n",
        "    Roberts3 = 1.5\n",
        "  print(Roberts3)"
      ],
      "metadata": {
        "colab": {
          "base_uri": "https://localhost:8080/"
        },
        "id": "mt1Z-vmm6lIR",
        "outputId": "294e0073-bbd4-4656-8b9e-9e968ea081e7"
      },
      "execution_count": null,
      "outputs": [
        {
          "output_type": "stream",
          "name": "stderr",
          "text": [
            "<ipython-input-13-fe7b06ebc885>:5: UserWarning: Boolean Series key will be reindexed to match DataFrame index.\n",
            "  df_Robertss = df_Robertss2[(df_Robertss)['direction'] > 0]\n"
          ]
        },
        {
          "output_type": "stream",
          "name": "stdout",
          "text": [
            "1.344927536231884\n",
            "1.4057971014492754\n",
            "1.4852941176470589\n",
            "1.5405405405405406\n",
            "1.2083333333333333\n",
            "1.5238095238095237\n",
            "1.4137931034482758\n",
            "1.4334600760456273\n",
            "1.3821656050955413\n",
            "1.6545454545454545\n",
            "1.5\n",
            "1.6875\n",
            "1.625\n",
            "1.6666666666666667\n"
          ]
        }
      ]
    },
    {
      "cell_type": "code",
      "source": [
        "#THOMAS"
      ],
      "metadata": {
        "id": "AAKyxy--sO2m"
      },
      "execution_count": null,
      "outputs": []
    },
    {
      "cell_type": "code",
      "source": [
        "for i in range(14):\n",
        "  df_CThomass = df[(df['justiceName'] == 'CThomas')]\n",
        "  df_CThomass2 = df_CThomass[(df_CThomass)['issueArea']== i+1]\n",
        "  df_CThomass['direction']\n",
        "  df_CThomass = df_CThomass2[(df_CThomass)['direction'] > 0]\n",
        "  try:\n",
        "    CThomas3 = sum(df_CThomass['direction']) / len(df_CThomass['direction'])\n",
        "  except:\n",
        "    CThomas3 = 1.5\n",
        "  print(CThomas3)"
      ],
      "metadata": {
        "colab": {
          "base_uri": "https://localhost:8080/"
        },
        "id": "kioGB9sH5-Ru",
        "outputId": "f69b1221-e877-4edb-db10-63591d247a0b"
      },
      "execution_count": null,
      "outputs": [
        {
          "output_type": "stream",
          "name": "stdout",
          "text": [
            "1.2227204783258594\n",
            "1.2393364928909953\n",
            "1.337837837837838\n",
            "1.3068181818181819\n",
            "1.2264150943396226\n",
            "1.4838709677419355\n",
            "1.320754716981132\n",
            "1.4498977505112474\n",
            "1.339080459770115\n",
            "1.4586466165413534\n",
            "1.5\n",
            "1.5294117647058822\n",
            "1.75\n",
            "1.3333333333333333\n"
          ]
        },
        {
          "output_type": "stream",
          "name": "stderr",
          "text": [
            "<ipython-input-12-9292f43bc255>:5: UserWarning: Boolean Series key will be reindexed to match DataFrame index.\n",
            "  df_CThomass = df_CThomass2[(df_CThomass)['direction'] > 0]\n"
          ]
        }
      ]
    },
    {
      "cell_type": "code",
      "source": [
        "#SOTOMAYOR"
      ],
      "metadata": {
        "id": "WBIWdSjotHAW"
      },
      "execution_count": null,
      "outputs": []
    },
    {
      "cell_type": "code",
      "source": [
        "for i in range(14):\n",
        "  df_SSotomayorr = df[(df['justiceName'] == 'SSotomayor')]\n",
        "  df_SSotomayorr2 = df_SSotomayorr[(df_SSotomayorr)['issueArea']== i+1]\n",
        "  df_SSotomayorr['direction']\n",
        "  df_SSotomayorr = df_SSotomayorr2[(df_SSotomayorr)['direction'] > 0]\n",
        "  try:\n",
        "    Sotomayor3 = sum(df_SSotomayorr['direction']) / len(df_SSotomayorr['direction'])\n",
        "  except:\n",
        "    Sotomayor3 = 1.5\n",
        "  print(Sotomayor3)"
      ],
      "metadata": {
        "colab": {
          "base_uri": "https://localhost:8080/"
        },
        "id": "ueqPwC0e5j-E",
        "outputId": "0d985936-01ed-4fe8-ace0-0ed6df8debab"
      },
      "execution_count": null,
      "outputs": [
        {
          "output_type": "stream",
          "name": "stdout",
          "text": [
            "1.6733067729083666\n",
            "1.7086092715231789\n",
            "1.6666666666666667\n",
            "1.8387096774193548\n",
            "1.5789473684210527\n",
            "1.75\n",
            "1.72\n",
            "1.5226130653266332\n",
            "1.5688073394495412\n",
            "1.6341463414634145\n",
            "1.5\n",
            "1.75\n",
            "1.5\n",
            "1.6666666666666667\n"
          ]
        },
        {
          "output_type": "stream",
          "name": "stderr",
          "text": [
            "<ipython-input-11-53d8630a0802>:5: UserWarning: Boolean Series key will be reindexed to match DataFrame index.\n",
            "  df_SSotomayorr = df_SSotomayorr2[(df_SSotomayorr)['direction'] > 0]\n"
          ]
        }
      ]
    },
    {
      "cell_type": "code",
      "source": [
        "#KAGAN"
      ],
      "metadata": {
        "id": "MhxnEro2uA82"
      },
      "execution_count": null,
      "outputs": []
    },
    {
      "cell_type": "code",
      "source": [
        "for i in range(14):\n",
        "  df_EKagann = df[(df['justiceName'] == 'EKagan')]\n",
        "  df_EKagann2 = df_EKagann[(df_EKagann)['issueArea']== i+1]\n",
        "  df_EKagann['direction']\n",
        "  df_EKagann = df_EKagann2[(df_EKagann)['direction'] > 0]\n",
        "  try:\n",
        "    Kagan3 = sum(df_EKagann['direction']) / len(df_EKagann['direction'])\n",
        "  except:\n",
        "    Kagan3 = 1.5\n",
        "  print(Kagan3)"
      ],
      "metadata": {
        "colab": {
          "base_uri": "https://localhost:8080/"
        },
        "id": "44QDH8wA48oV",
        "outputId": "9c87366e-e7b0-4e6f-ca1f-f130890cb284"
      },
      "execution_count": null,
      "outputs": [
        {
          "output_type": "stream",
          "name": "stdout",
          "text": [
            "1.6226415094339623\n",
            "1.689922480620155\n",
            "1.6595744680851063\n",
            "1.7333333333333334\n",
            "1.5333333333333334\n",
            "1.8333333333333333\n",
            "1.7619047619047619\n",
            "1.5217391304347827\n",
            "1.5154639175257731\n",
            "1.6470588235294117\n",
            "1.5\n",
            "1.6\n",
            "1.5714285714285714\n",
            "1.6666666666666667\n"
          ]
        },
        {
          "output_type": "stream",
          "name": "stderr",
          "text": [
            "<ipython-input-10-d94d7b4d9918>:5: UserWarning: Boolean Series key will be reindexed to match DataFrame index.\n",
            "  df_EKagann = df_EKagann2[(df_EKagann)['direction'] > 0]\n"
          ]
        }
      ]
    },
    {
      "cell_type": "code",
      "source": [
        "#GORSUCH"
      ],
      "metadata": {
        "id": "HiPep90bu0xn"
      },
      "execution_count": null,
      "outputs": []
    },
    {
      "cell_type": "code",
      "source": [
        "for i in range(14):\n",
        "  df_NMGorsuchh = df[(df['justiceName'] == 'NMGorsuch')]\n",
        "  df_NMGorsuchh2 = df_NMGorsuchh[(df_NMGorsuchh)['issueArea']== i+1]\n",
        "  df_NMGorsuchh['direction']\n",
        "  df_NMGorsuchh = df_NMGorsuchh2[(df_NMGorsuchh)['direction'] > 0]\n",
        "  try:\n",
        "    Gorsuch3 = sum(df_NMGorsuchh['direction']) / len(df_NMGorsuchh['direction'])\n",
        "  except:\n",
        "    Gorsuch3 = 1.5\n",
        "  print(Gorsuch3)"
      ],
      "metadata": {
        "colab": {
          "base_uri": "https://localhost:8080/"
        },
        "id": "uNvwWa624e0j",
        "outputId": "abf69d93-bff3-4afe-a547-48e6d719bfdb"
      },
      "execution_count": null,
      "outputs": [
        {
          "output_type": "stream",
          "name": "stdout",
          "text": [
            "1.3943661971830985\n",
            "1.4464285714285714\n",
            "1.5909090909090908\n",
            "1.3076923076923077\n",
            "1.1428571428571428\n",
            "1.3333333333333333\n",
            "1.4\n",
            "1.3506493506493507\n",
            "1.3863636363636365\n",
            "1.3571428571428572\n",
            "1.5\n",
            "1.0\n",
            "2.0\n",
            "1.3333333333333333\n"
          ]
        },
        {
          "output_type": "stream",
          "name": "stderr",
          "text": [
            "<ipython-input-9-000ae608b94a>:5: UserWarning: Boolean Series key will be reindexed to match DataFrame index.\n",
            "  df_NMGorsuchh = df_NMGorsuchh2[(df_NMGorsuchh)['direction'] > 0]\n"
          ]
        }
      ]
    },
    {
      "cell_type": "code",
      "source": [
        "#KAVANAUGH"
      ],
      "metadata": {
        "id": "za5BzDdEvgMB"
      },
      "execution_count": null,
      "outputs": []
    },
    {
      "cell_type": "code",
      "source": [
        "for i in range(14):\n",
        "  df_BMKavanaughh = df[(df['justiceName'] == 'BMKavanaugh')]\n",
        "  df_BMKavanaughh2 = df_BMKavanaughh[(df_BMKavanaughh)['issueArea']== i+1]\n",
        "  df_BMKavanaughh['direction']\n",
        "  df_BMKavanaughh = df_BMKavanaughh2[(df_BMKavanaughh)['direction'] > 0]\n",
        "  try:\n",
        "    Kavanaugh3 = sum(df_BMKavanaughh['direction']) / len(df_BMKavanaughh['direction'])\n",
        "  except:\n",
        "    Kavanaugh3 = 1.5\n",
        "  print(Kavanaugh3)"
      ],
      "metadata": {
        "colab": {
          "base_uri": "https://localhost:8080/"
        },
        "id": "kovApa5-4AQQ",
        "outputId": "48888242-d0ca-42e0-c11a-8898e4cc6138"
      },
      "execution_count": null,
      "outputs": [
        {
          "output_type": "stream",
          "name": "stdout",
          "text": [
            "1.3725490196078431\n",
            "1.2790697674418605\n",
            "1.4736842105263157\n",
            "1.4444444444444444\n",
            "1.0\n",
            "1.5\n",
            "1.6666666666666667\n",
            "1.3898305084745763\n",
            "1.375\n",
            "1.3846153846153846\n",
            "1.5\n",
            "1.3333333333333333\n",
            "2.0\n",
            "2.0\n"
          ]
        },
        {
          "output_type": "stream",
          "name": "stderr",
          "text": [
            "<ipython-input-8-8e8e77da20fa>:5: UserWarning: Boolean Series key will be reindexed to match DataFrame index.\n",
            "  df_BMKavanaughh = df_BMKavanaughh2[(df_BMKavanaughh)['direction'] > 0]\n"
          ]
        }
      ]
    },
    {
      "cell_type": "code",
      "source": [
        "#BARRETT"
      ],
      "metadata": {
        "id": "5CxBvC1hw3rV"
      },
      "execution_count": null,
      "outputs": []
    },
    {
      "cell_type": "code",
      "source": [
        "for i in range(14):\n",
        "  df_ACBarrettt = df[(df['justiceName'] == 'ACBarrett')]\n",
        "  df_ACBarrettt2 = df_ACBarrettt[(df_ACBarrettt)['issueArea']== i+1]\n",
        "  df_ACBarrettt['direction']\n",
        "  df_ACBarrettt = df_ACBarrettt2[(df_ACBarrettt)['direction'] > 0]\n",
        "  try:\n",
        "    Barrett3 = sum(df_ACBarrettt['direction']) / len(df_ACBarrettt['direction'])\n",
        "  except:\n",
        "    Barrett3 = 1.5\n",
        "  print(Barrett3)"
      ],
      "metadata": {
        "colab": {
          "base_uri": "https://localhost:8080/"
        },
        "id": "jW4njL2G3jPe",
        "outputId": "d5acb72d-497a-43b5-e273-83ca5a912c9f"
      },
      "execution_count": null,
      "outputs": [
        {
          "output_type": "stream",
          "name": "stdout",
          "text": [
            "1.2692307692307692\n",
            "1.2272727272727273\n",
            "1.5555555555555556\n",
            "1.25\n",
            "1.0\n",
            "1.5\n",
            "1.5\n",
            "1.2272727272727273\n",
            "1.3333333333333333\n",
            "1.25\n",
            "1.5\n",
            "1.0\n",
            "2.0\n",
            "2.0\n"
          ]
        },
        {
          "output_type": "stream",
          "name": "stderr",
          "text": [
            "<ipython-input-6-6769d99e2d81>:5: UserWarning: Boolean Series key will be reindexed to match DataFrame index.\n",
            "  df_ACBarrettt = df_ACBarrettt2[(df_ACBarrettt)['direction'] > 0]\n"
          ]
        }
      ]
    },
    {
      "cell_type": "code",
      "source": [
        "#ALITO"
      ],
      "metadata": {
        "id": "9n4jUFj4yJWV"
      },
      "execution_count": null,
      "outputs": []
    },
    {
      "cell_type": "code",
      "source": [
        "for i in range(14):\n",
        "  df_SAAlito = df[(df['justiceName'] == 'SAAlito')]\n",
        "  df_SAAlito2 = df_SAAlito[(df_SAAlito)['issueArea']== i+1]\n",
        "  df_SAAlito['direction']\n",
        "  df_SAAlito = df_SAAlito2[(df_SAAlito)['direction'] > 0]\n",
        "  try:\n",
        "    Alito3 = sum(df_SAAlito['direction']) / len(df_SAAlito['direction'])\n",
        "  except:\n",
        "    Alito3 = 1.5\n",
        "  print(Alito3)"
      ],
      "metadata": {
        "colab": {
          "base_uri": "https://localhost:8080/"
        },
        "id": "J7H2NsQQ2rvN",
        "outputId": "06fda73a-7fb9-49d7-ce57-ba203461b7ad"
      },
      "execution_count": null,
      "outputs": [
        {
          "output_type": "stream",
          "name": "stdout",
          "text": [
            "1.2048192771084338\n",
            "1.3349753694581281\n",
            "1.4375\n",
            "1.4444444444444444\n",
            "1.0952380952380953\n",
            "1.55\n",
            "1.3214285714285714\n",
            "1.4124513618677044\n",
            "1.388157894736842\n",
            "1.5961538461538463\n",
            "1.5\n",
            "1.625\n",
            "1.625\n",
            "1.3333333333333333\n"
          ]
        },
        {
          "output_type": "stream",
          "name": "stderr",
          "text": [
            "<ipython-input-5-e57477b10a97>:5: UserWarning: Boolean Series key will be reindexed to match DataFrame index.\n",
            "  df_SAAlito = df_SAAlito2[(df_SAAlito)['direction'] > 0]\n"
          ]
        }
      ]
    },
    {
      "cell_type": "code",
      "source": [
        "#ALL JUDGES"
      ],
      "metadata": {
        "id": "IcZRNk_ny1fz"
      },
      "execution_count": null,
      "outputs": []
    },
    {
      "cell_type": "code",
      "source": [
        "judge_dict = {}\n",
        "\n",
        "for i in range(14):\n",
        "  df_SGBreyerr = df[(df['justiceName'] == 'SGBreyer')]\n",
        "  df_SGBreyerr2 = df_SGBreyerr[(df_SGBreyerr)['issueArea']== i+1]\n",
        "  df_SGBreyerr['direction']\n",
        "  df_SGBreyerr = df_SGBreyerr2[(df_SGBreyerr)['direction'] > 0]\n",
        "  try:\n",
        "    Breyer3 = sum(df_SGBreyerr['direction']) / len(df_SGBreyerr['direction'])\n",
        "  except:\n",
        "    Breyer3 = 1.5\n",
        "\n",
        "  judge_dict[i] = {'Breyer' : Breyer3}\n",
        "\n",
        "for i in range(14):\n",
        "  df_SAAlito = df[(df['justiceName'] == 'SAAlito')]\n",
        "  df_SAAlito2 = df_SAAlito[(df_SAAlito)['issueArea']== i+1]\n",
        "  df_SAAlito['direction']\n",
        "  df_SAAlito = df_SAAlito2[(df_SAAlito)['direction'] > 0]\n",
        "  try:\n",
        "    Alito3 = sum(df_SAAlito['direction']) / len(df_SAAlito['direction'])\n",
        "  except:\n",
        "    Alito3 = 1.5\n",
        "\n",
        "  judge_dict[i]['Alito'] = Alito3\n",
        "\n",
        "  \n",
        "\n",
        "\n",
        "  \n",
        "print(judge_dict)"
      ],
      "metadata": {
        "colab": {
          "base_uri": "https://localhost:8080/"
        },
        "id": "5OPV0Xq-y63f",
        "outputId": "87265350-1673-40d8-a574-705d9ca55da1"
      },
      "execution_count": null,
      "outputs": [
        {
          "output_type": "stream",
          "name": "stderr",
          "text": [
            "<ipython-input-6-e696712a6b2c>:7: UserWarning: Boolean Series key will be reindexed to match DataFrame index.\n",
            "  df_SGBreyerr = df_SGBreyerr2[(df_SGBreyerr)['direction'] > 0]\n"
          ]
        },
        {
          "output_type": "stream",
          "name": "stdout",
          "text": [
            "{0: {'Breyer': 1.5580204778156996, 'Alito': 1.2048192771084338}, 1: {'Breyer': 1.6407506702412868, 'Alito': 1.3349753694581281}, 2: {'Breyer': 1.550387596899225, 'Alito': 1.4375}, 3: {'Breyer': 1.75, 'Alito': 1.4444444444444444}, 4: {'Breyer': 1.488888888888889, 'Alito': 1.0952380952380953}, 5: {'Breyer': 1.6538461538461537, 'Alito': 1.55}, 6: {'Breyer': 1.7346938775510203, 'Alito': 1.3214285714285714}, 7: {'Breyer': 1.508433734939759, 'Alito': 1.4124513618677044}, 8: {'Breyer': 1.4814814814814814, 'Alito': 1.388157894736842}, 9: {'Breyer': 1.6610169491525424, 'Alito': 1.5961538461538463}, 10: {'Breyer': 1.5, 'Alito': 1.5}, 11: {'Breyer': 1.7435897435897436, 'Alito': 1.625}, 12: {'Breyer': 1.25, 'Alito': 1.625}, 13: {'Breyer': 1.6666666666666667, 'Alito': 1.3333333333333333}}\n"
          ]
        },
        {
          "output_type": "stream",
          "name": "stderr",
          "text": [
            "<ipython-input-6-e696712a6b2c>:19: UserWarning: Boolean Series key will be reindexed to match DataFrame index.\n",
            "  df_SAAlito = df_SAAlito2[(df_SAAlito)['direction'] > 0]\n"
          ]
        }
      ]
    },
    {
      "cell_type": "code",
      "source": [
        "#append to lists, create dictionarys and see how they work in python\n",
        "#get scores for judges into these\n",
        "#DUE FRIDAY"
      ],
      "metadata": {
        "id": "40tM9Vyg2Zuq"
      },
      "execution_count": null,
      "outputs": []
    },
    {
      "cell_type": "code",
      "source": [
        "#new_lis = Breyer3\n",
        "\n",
        "#Justices = {\"Breyer\" : new_lis,}\n",
        "\n",
        "#print(Justices)"
      ],
      "metadata": {
        "id": "d7LOJZDkNAmH"
      },
      "execution_count": null,
      "outputs": []
    },
    {
      "cell_type": "code",
      "source": [
        "judge_dict = {}\n",
        "\n",
        "justices = ['SGBreyer', 'SAAlito', 'ACBarrett', 'BMKavanaugh', 'NMGorsuch','EKagan', 'SSotomayor', 'CThomas', 'JGRoberts' ]\n",
        "\n",
        "for i in range(14):\n",
        "    for justice in justices:\n",
        "        df_j = df[(df['justiceName'] == justice)]\n",
        "        df_j2 = df_j[(df_j)['issueArea'] == i + 1]\n",
        "        df_j = df_j2[(df_j)['direction'] > 0]\n",
        "        try:\n",
        "            avg_dir = sum(df_j['direction']) / len(df_j['direction'])\n",
        "        except:\n",
        "            avg_dir = 1.5\n",
        "        if i not in judge_dict:\n",
        "            judge_dict[i] = {}\n",
        "        judge_dict[i][justice] = avg_dir\n",
        "\n",
        "judge_dict"
      ],
      "metadata": {
        "id": "iscRIxTPUj1w",
        "colab": {
          "base_uri": "https://localhost:8080/"
        },
        "outputId": "bf5c428a-6de7-42a8-c080-e1fca152a19e"
      },
      "execution_count": null,
      "outputs": [
        {
          "output_type": "stream",
          "name": "stderr",
          "text": [
            "<ipython-input-4-aedf7cf823de>:9: UserWarning: Boolean Series key will be reindexed to match DataFrame index.\n",
            "  df_j = df_j2[(df_j)['direction'] > 0]\n"
          ]
        },
        {
          "output_type": "execute_result",
          "data": {
            "text/plain": [
              "{0: {'SGBreyer': 1.5580204778156996,\n",
              "  'SAAlito': 1.2048192771084338,\n",
              "  'ACBarrett': 1.2692307692307692,\n",
              "  'BMKavanaugh': 1.3725490196078431,\n",
              "  'NMGorsuch': 1.3943661971830985,\n",
              "  'EKagan': 1.6226415094339623,\n",
              "  'SSotomayor': 1.6733067729083666,\n",
              "  'CThomas': 1.2227204783258594,\n",
              "  'JGRoberts': 1.344927536231884},\n",
              " 1: {'SGBreyer': 1.6407506702412868,\n",
              "  'SAAlito': 1.3349753694581281,\n",
              "  'ACBarrett': 1.2272727272727273,\n",
              "  'BMKavanaugh': 1.2790697674418605,\n",
              "  'NMGorsuch': 1.4464285714285714,\n",
              "  'EKagan': 1.689922480620155,\n",
              "  'SSotomayor': 1.7086092715231789,\n",
              "  'CThomas': 1.2393364928909953,\n",
              "  'JGRoberts': 1.4057971014492754},\n",
              " 2: {'SGBreyer': 1.550387596899225,\n",
              "  'SAAlito': 1.4375,\n",
              "  'ACBarrett': 1.5555555555555556,\n",
              "  'BMKavanaugh': 1.4736842105263157,\n",
              "  'NMGorsuch': 1.5909090909090908,\n",
              "  'EKagan': 1.6595744680851063,\n",
              "  'SSotomayor': 1.6666666666666667,\n",
              "  'CThomas': 1.337837837837838,\n",
              "  'JGRoberts': 1.4852941176470589},\n",
              " 3: {'SGBreyer': 1.75,\n",
              "  'SAAlito': 1.4444444444444444,\n",
              "  'ACBarrett': 1.25,\n",
              "  'BMKavanaugh': 1.4444444444444444,\n",
              "  'NMGorsuch': 1.3076923076923077,\n",
              "  'EKagan': 1.7333333333333334,\n",
              "  'SSotomayor': 1.8387096774193548,\n",
              "  'CThomas': 1.3068181818181819,\n",
              "  'JGRoberts': 1.5405405405405406},\n",
              " 4: {'SGBreyer': 1.488888888888889,\n",
              "  'SAAlito': 1.0952380952380953,\n",
              "  'ACBarrett': 1.0,\n",
              "  'BMKavanaugh': 1.0,\n",
              "  'NMGorsuch': 1.1428571428571428,\n",
              "  'EKagan': 1.5333333333333334,\n",
              "  'SSotomayor': 1.5789473684210527,\n",
              "  'CThomas': 1.2264150943396226,\n",
              "  'JGRoberts': 1.2083333333333333},\n",
              " 5: {'SGBreyer': 1.6538461538461537,\n",
              "  'SAAlito': 1.55,\n",
              "  'ACBarrett': 1.5,\n",
              "  'BMKavanaugh': 1.5,\n",
              "  'NMGorsuch': 1.3333333333333333,\n",
              "  'EKagan': 1.8333333333333333,\n",
              "  'SSotomayor': 1.75,\n",
              "  'CThomas': 1.4838709677419355,\n",
              "  'JGRoberts': 1.5238095238095237},\n",
              " 6: {'SGBreyer': 1.7346938775510203,\n",
              "  'SAAlito': 1.3214285714285714,\n",
              "  'ACBarrett': 1.5,\n",
              "  'BMKavanaugh': 1.6666666666666667,\n",
              "  'NMGorsuch': 1.4,\n",
              "  'EKagan': 1.7619047619047619,\n",
              "  'SSotomayor': 1.72,\n",
              "  'CThomas': 1.320754716981132,\n",
              "  'JGRoberts': 1.4137931034482758},\n",
              " 7: {'SGBreyer': 1.508433734939759,\n",
              "  'SAAlito': 1.4124513618677044,\n",
              "  'ACBarrett': 1.2272727272727273,\n",
              "  'BMKavanaugh': 1.3898305084745763,\n",
              "  'NMGorsuch': 1.3506493506493507,\n",
              "  'EKagan': 1.5217391304347827,\n",
              "  'SSotomayor': 1.5226130653266332,\n",
              "  'CThomas': 1.4498977505112474,\n",
              "  'JGRoberts': 1.4334600760456273},\n",
              " 8: {'SGBreyer': 1.4814814814814814,\n",
              "  'SAAlito': 1.388157894736842,\n",
              "  'ACBarrett': 1.3333333333333333,\n",
              "  'BMKavanaugh': 1.375,\n",
              "  'NMGorsuch': 1.3863636363636365,\n",
              "  'EKagan': 1.5154639175257731,\n",
              "  'SSotomayor': 1.5688073394495412,\n",
              "  'CThomas': 1.339080459770115,\n",
              "  'JGRoberts': 1.3821656050955413},\n",
              " 9: {'SGBreyer': 1.6610169491525424,\n",
              "  'SAAlito': 1.5961538461538463,\n",
              "  'ACBarrett': 1.25,\n",
              "  'BMKavanaugh': 1.3846153846153846,\n",
              "  'NMGorsuch': 1.3571428571428572,\n",
              "  'EKagan': 1.6470588235294117,\n",
              "  'SSotomayor': 1.6341463414634145,\n",
              "  'CThomas': 1.4586466165413534,\n",
              "  'JGRoberts': 1.6545454545454545},\n",
              " 10: {'SGBreyer': 1.5,\n",
              "  'SAAlito': 1.5,\n",
              "  'ACBarrett': 1.5,\n",
              "  'BMKavanaugh': 1.5,\n",
              "  'NMGorsuch': 1.5,\n",
              "  'EKagan': 1.5,\n",
              "  'SSotomayor': 1.5,\n",
              "  'CThomas': 1.5,\n",
              "  'JGRoberts': 1.5},\n",
              " 11: {'SGBreyer': 1.7435897435897436,\n",
              "  'SAAlito': 1.625,\n",
              "  'ACBarrett': 1.0,\n",
              "  'BMKavanaugh': 1.3333333333333333,\n",
              "  'NMGorsuch': 1.0,\n",
              "  'EKagan': 1.6,\n",
              "  'SSotomayor': 1.75,\n",
              "  'CThomas': 1.5294117647058822,\n",
              "  'JGRoberts': 1.6875},\n",
              " 12: {'SGBreyer': 1.25,\n",
              "  'SAAlito': 1.625,\n",
              "  'ACBarrett': 2.0,\n",
              "  'BMKavanaugh': 2.0,\n",
              "  'NMGorsuch': 2.0,\n",
              "  'EKagan': 1.5714285714285714,\n",
              "  'SSotomayor': 1.5,\n",
              "  'CThomas': 1.75,\n",
              "  'JGRoberts': 1.625},\n",
              " 13: {'SGBreyer': 1.6666666666666667,\n",
              "  'SAAlito': 1.3333333333333333,\n",
              "  'ACBarrett': 2.0,\n",
              "  'BMKavanaugh': 2.0,\n",
              "  'NMGorsuch': 1.3333333333333333,\n",
              "  'EKagan': 1.6666666666666667,\n",
              "  'SSotomayor': 1.6666666666666667,\n",
              "  'CThomas': 1.3333333333333333,\n",
              "  'JGRoberts': 1.6666666666666667}}"
            ]
          },
          "metadata": {},
          "execution_count": 4
        }
      ]
    },
    {
      "cell_type": "code",
      "source": [
        "df_ACBarrett0 = df[(df['justiceName'] == 'ACBarrett')]\n",
        "df_ACBarrett0"
      ],
      "metadata": {
        "id": "lSnVs_coCO6Q",
        "colab": {
          "base_uri": "https://localhost:8080/",
          "height": 182
        },
        "outputId": "ae712064-36ec-43a1-e30a-e61b3872c2ee"
      },
      "execution_count": null,
      "outputs": [
        {
          "output_type": "error",
          "ename": "NameError",
          "evalue": "ignored",
          "traceback": [
            "\u001b[0;31m---------------------------------------------------------------------------\u001b[0m",
            "\u001b[0;31mNameError\u001b[0m                                 Traceback (most recent call last)",
            "\u001b[0;32m<ipython-input-1-293e1738e8da>\u001b[0m in \u001b[0;36m<cell line: 1>\u001b[0;34m()\u001b[0m\n\u001b[0;32m----> 1\u001b[0;31m \u001b[0mdf_ACBarrett0\u001b[0m \u001b[0;34m=\u001b[0m \u001b[0mdf\u001b[0m\u001b[0;34m[\u001b[0m\u001b[0;34m(\u001b[0m\u001b[0mdf\u001b[0m\u001b[0;34m[\u001b[0m\u001b[0;34m'justiceName'\u001b[0m\u001b[0;34m]\u001b[0m \u001b[0;34m==\u001b[0m \u001b[0;34m'ACBarrett'\u001b[0m\u001b[0;34m)\u001b[0m\u001b[0;34m]\u001b[0m\u001b[0;34m\u001b[0m\u001b[0;34m\u001b[0m\u001b[0m\n\u001b[0m\u001b[1;32m      2\u001b[0m \u001b[0mdf_ACBarrett0\u001b[0m\u001b[0;34m\u001b[0m\u001b[0;34m\u001b[0m\u001b[0m\n",
            "\u001b[0;31mNameError\u001b[0m: name 'df' is not defined"
          ]
        }
      ]
    },
    {
      "cell_type": "code",
      "source": [
        "\n",
        "\n",
        "#df_caseid\n",
        "\n",
        "\n",
        "#for i in range(15):\n",
        "def get_issue_area (df, c):\n",
        "  df_caseid = df[(df['caseId'] == c )]\n",
        "  for i in df_caseid['issueArea']:\n",
        "      issue_area = i \n",
        "  return issue_area"
      ],
      "metadata": {
        "id": "Mgyd5ebFC367"
      },
      "execution_count": null,
      "outputs": []
    },
    {
      "cell_type": "code",
      "source": [
        "get_issue_area(df, '2020-002')"
      ],
      "metadata": {
        "colab": {
          "base_uri": "https://localhost:8080/"
        },
        "id": "Yrde5YIxrRCS",
        "outputId": "92ba1000-8a53-4d6e-d921-24a0818f7459"
      },
      "execution_count": null,
      "outputs": [
        {
          "output_type": "execute_result",
          "data": {
            "text/plain": [
              "9.0"
            ]
          },
          "metadata": {},
          "execution_count": 7
        }
      ]
    },
    {
      "cell_type": "code",
      "source": [
        "def get_score(dictionary, issue_area):\n",
        "#issue9 = judge_dict[issue_area-1]\n",
        "  return dictionary[issue_area-1]\n",
        "  "
      ],
      "metadata": {
        "id": "8ESlf9M4J_Pv"
      },
      "execution_count": null,
      "outputs": []
    },
    {
      "cell_type": "code",
      "source": [
        "get_score(judge_dict, get_issue_area(df, '2020-002'))"
      ],
      "metadata": {
        "colab": {
          "base_uri": "https://localhost:8080/"
        },
        "id": "IVSCy5YgsMTF",
        "outputId": "b7081cf1-3f16-4b25-b495-d59582a17dd3"
      },
      "execution_count": null,
      "outputs": [
        {
          "output_type": "execute_result",
          "data": {
            "text/plain": [
              "{'SGBreyer': 1.4814814814814814,\n",
              " 'SAAlito': 1.388157894736842,\n",
              " 'ACBarrett': 1.3333333333333333,\n",
              " 'BMKavanaugh': 1.375,\n",
              " 'NMGorsuch': 1.3863636363636365,\n",
              " 'EKagan': 1.5154639175257731,\n",
              " 'SSotomayor': 1.5688073394495412,\n",
              " 'CThomas': 1.339080459770115,\n",
              " 'JGRoberts': 1.3821656050955413}"
            ]
          },
          "metadata": {},
          "execution_count": 9
        }
      ]
    },
    {
      "cell_type": "code",
      "source": [
        "issue_area = get_issue_area(df, '2020-002')\n",
        "score = get_score(judge_dict,issue_area)\n",
        "\n",
        "for i in score:\n",
        "  score[i]\n",
        "  print(score[i])"
      ],
      "metadata": {
        "colab": {
          "base_uri": "https://localhost:8080/"
        },
        "id": "dGBer6W6L4LD",
        "outputId": "a569ef65-5e8d-44c4-b33d-2cf1f03566c2"
      },
      "execution_count": null,
      "outputs": [
        {
          "output_type": "stream",
          "name": "stdout",
          "text": [
            "1.4814814814814814\n",
            "1.388157894736842\n",
            "1.3333333333333333\n",
            "1.375\n",
            "1.3863636363636365\n",
            "1.5154639175257731\n",
            "1.5688073394495412\n",
            "1.339080459770115\n",
            "1.3821656050955413\n"
          ]
        }
      ]
    },
    {
      "cell_type": "code",
      "source": [
        "def score_calc(score):\n",
        "  t = 1.5\n",
        "  c = 0\n",
        "  l = 0\n",
        "  for i in score:\n",
        "    if score[i] > t:\n",
        "      #print('Liberal Vote')\n",
        "      l = l + 1\n",
        "      \n",
        "    else:\n",
        "      #print('Conservative Vote')\n",
        "      c = c + 1\n",
        "      \n",
        "  if c > l:\n",
        "    print('The Decision is Conservative')\n",
        "    return 1\n",
        "\n",
        "  else:\n",
        "    print('The Decision is Liberal')\n",
        "    return 2"
      ],
      "metadata": {
        "id": "xoJKr2RwPeZD"
      },
      "execution_count": null,
      "outputs": []
    },
    {
      "cell_type": "code",
      "source": [
        "score_calc(score)"
      ],
      "metadata": {
        "colab": {
          "base_uri": "https://localhost:8080/"
        },
        "id": "T0tHaE3qyjO9",
        "outputId": "7d183eeb-8224-4000-f258-df320dece37e"
      },
      "execution_count": null,
      "outputs": [
        {
          "output_type": "stream",
          "name": "stdout",
          "text": [
            "The Decision is Conservative\n"
          ]
        },
        {
          "output_type": "execute_result",
          "data": {
            "text/plain": [
              "1"
            ]
          },
          "metadata": {},
          "execution_count": 12
        }
      ]
    },
    {
      "cell_type": "code",
      "source": [
        "df_caseid = df[(df['justiceName'] == 'ACBarrett')]\n",
        "df_caseid2 = df_caseid[(df_caseid['caseId'] == '2020-002')]\n",
        "\n",
        "df_caseid2['decisionDirection']\n",
        "real_direction = df_caseid2['decisionDirection']\n",
        "\n",
        "print(real_direction)"
      ],
      "metadata": {
        "colab": {
          "base_uri": "https://localhost:8080/"
        },
        "id": "NBkkb4rLSnaz",
        "outputId": "43ebeeb8-e700-4700-d0fb-716e103fc921"
      },
      "execution_count": null,
      "outputs": [
        {
          "output_type": "stream",
          "name": "stdout",
          "text": [
            "80862    1.0\n",
            "Name: decisionDirection, dtype: float64\n"
          ]
        }
      ]
    },
    {
      "cell_type": "code",
      "source": [
        "df_caseid['caseId']"
      ],
      "metadata": {
        "id": "am6TJT-O5BCq"
      },
      "execution_count": null,
      "outputs": []
    },
    {
      "cell_type": "code",
      "source": [
        "number_correct = 0\n",
        "df_caseid = df[(df['justiceName'] == 'ACBarrett')]\n",
        "\n",
        "df_caseid\n",
        "\n",
        "for index, row in df_caseid.iterrows():\n",
        "  print(get_issue_area(df, str(df_caseid['caseId'])))\n",
        "  display(df_caseid['issueArea'])\n",
        "  # print(issue_area)\n",
        "#   score = get_score(judge_dict,issue_area)\n",
        "#   if row['decisionDirection'] == score_calc(score):\n",
        "#     number_correct + 1\n",
        "\n",
        "# number_correct / (len(df_caseid) * (9))\n",
        "\n",
        "\n",
        "\n",
        "\n",
        "# for i in range(len(df_caseid)):\n",
        "#   real_direction = df_caseid['decisionDirection']\n",
        "#   if (real_direction == score_calc(score)).any():\n",
        "#     print('Prediction is correct')\n",
        "#     number_correct + 1\n",
        "#   else:\n",
        "#     print('Prediction is incorrect')"
      ],
      "metadata": {
        "colab": {
          "base_uri": "https://localhost:8080/",
          "height": 321
        },
        "id": "WqRpxmQTZ1hc",
        "outputId": "bca2d5a3-6b4a-4c30-f601-2aa986f76792"
      },
      "execution_count": null,
      "outputs": [
        {
          "output_type": "error",
          "ename": "UnboundLocalError",
          "evalue": "ignored",
          "traceback": [
            "\u001b[0;31m---------------------------------------------------------------------------\u001b[0m",
            "\u001b[0;31mUnboundLocalError\u001b[0m                         Traceback (most recent call last)",
            "\u001b[0;32m<ipython-input-14-2beefca8bdf6>\u001b[0m in \u001b[0;36m<cell line: 6>\u001b[0;34m()\u001b[0m\n\u001b[1;32m      5\u001b[0m \u001b[0;34m\u001b[0m\u001b[0m\n\u001b[1;32m      6\u001b[0m \u001b[0;32mfor\u001b[0m \u001b[0mindex\u001b[0m\u001b[0;34m,\u001b[0m \u001b[0mrow\u001b[0m \u001b[0;32min\u001b[0m \u001b[0mdf_caseid\u001b[0m\u001b[0;34m.\u001b[0m\u001b[0miterrows\u001b[0m\u001b[0;34m(\u001b[0m\u001b[0;34m)\u001b[0m\u001b[0;34m:\u001b[0m\u001b[0;34m\u001b[0m\u001b[0;34m\u001b[0m\u001b[0m\n\u001b[0;32m----> 7\u001b[0;31m   \u001b[0mprint\u001b[0m\u001b[0;34m(\u001b[0m\u001b[0mget_issue_area\u001b[0m\u001b[0;34m(\u001b[0m\u001b[0mdf\u001b[0m\u001b[0;34m,\u001b[0m \u001b[0mstr\u001b[0m\u001b[0;34m(\u001b[0m\u001b[0mdf_caseid\u001b[0m\u001b[0;34m[\u001b[0m\u001b[0;34m'caseId'\u001b[0m\u001b[0;34m]\u001b[0m\u001b[0;34m)\u001b[0m\u001b[0;34m)\u001b[0m\u001b[0;34m)\u001b[0m\u001b[0;34m\u001b[0m\u001b[0;34m\u001b[0m\u001b[0m\n\u001b[0m\u001b[1;32m      8\u001b[0m   \u001b[0mdisplay\u001b[0m\u001b[0;34m(\u001b[0m\u001b[0mdf_caseid\u001b[0m\u001b[0;34m[\u001b[0m\u001b[0;34m'issueArea'\u001b[0m\u001b[0;34m]\u001b[0m\u001b[0;34m)\u001b[0m\u001b[0;34m\u001b[0m\u001b[0;34m\u001b[0m\u001b[0m\n\u001b[1;32m      9\u001b[0m   \u001b[0;31m# print(issue_area)\u001b[0m\u001b[0;34m\u001b[0m\u001b[0;34m\u001b[0m\u001b[0m\n",
            "\u001b[0;32m<ipython-input-6-193fa7b1600b>\u001b[0m in \u001b[0;36mget_issue_area\u001b[0;34m(df, c)\u001b[0m\n\u001b[1;32m      7\u001b[0m   \u001b[0;32mfor\u001b[0m \u001b[0mi\u001b[0m \u001b[0;32min\u001b[0m \u001b[0mdf_caseid\u001b[0m\u001b[0;34m[\u001b[0m\u001b[0;34m'issueArea'\u001b[0m\u001b[0;34m]\u001b[0m\u001b[0;34m:\u001b[0m\u001b[0;34m\u001b[0m\u001b[0;34m\u001b[0m\u001b[0m\n\u001b[1;32m      8\u001b[0m       \u001b[0missue_area\u001b[0m \u001b[0;34m=\u001b[0m \u001b[0mi\u001b[0m\u001b[0;34m\u001b[0m\u001b[0;34m\u001b[0m\u001b[0m\n\u001b[0;32m----> 9\u001b[0;31m   \u001b[0;32mreturn\u001b[0m \u001b[0missue_area\u001b[0m\u001b[0;34m\u001b[0m\u001b[0;34m\u001b[0m\u001b[0m\n\u001b[0m",
            "\u001b[0;31mUnboundLocalError\u001b[0m: local variable 'issue_area' referenced before assignment"
          ]
        }
      ]
    },
    {
      "cell_type": "code",
      "source": [],
      "metadata": {
        "id": "Ht-TyJg57KAH"
      },
      "execution_count": null,
      "outputs": []
    },
    {
      "cell_type": "code",
      "source": [
        "for i in range(15):\n",
        "  print(judge_dict.get(i - 1))"
      ],
      "metadata": {
        "colab": {
          "base_uri": "https://localhost:8080/"
        },
        "id": "QwGhtaADJKYJ",
        "outputId": "2ce73cf4-0a87-4e63-b02d-f0d3a95a372a"
      },
      "execution_count": null,
      "outputs": [
        {
          "output_type": "stream",
          "name": "stdout",
          "text": [
            "None\n",
            "{'SGBreyer': 1.5580204778156996, 'SAAlito': 1.2048192771084338, 'ACBarrett': 1.2692307692307692, 'BMKavanaugh': 1.3725490196078431, 'NMGorsuch': 1.3943661971830985, 'EKagan': 1.6226415094339623, 'SSotomayor': 1.6733067729083666, 'CThomas': 1.2227204783258594, 'JGRoberts': 1.344927536231884}\n",
            "{'SGBreyer': 1.6407506702412868, 'SAAlito': 1.3349753694581281, 'ACBarrett': 1.2272727272727273, 'BMKavanaugh': 1.2790697674418605, 'NMGorsuch': 1.4464285714285714, 'EKagan': 1.689922480620155, 'SSotomayor': 1.7086092715231789, 'CThomas': 1.2393364928909953, 'JGRoberts': 1.4057971014492754}\n",
            "{'SGBreyer': 1.550387596899225, 'SAAlito': 1.4375, 'ACBarrett': 1.5555555555555556, 'BMKavanaugh': 1.4736842105263157, 'NMGorsuch': 1.5909090909090908, 'EKagan': 1.6595744680851063, 'SSotomayor': 1.6666666666666667, 'CThomas': 1.337837837837838, 'JGRoberts': 1.4852941176470589}\n",
            "{'SGBreyer': 1.75, 'SAAlito': 1.4444444444444444, 'ACBarrett': 1.25, 'BMKavanaugh': 1.4444444444444444, 'NMGorsuch': 1.3076923076923077, 'EKagan': 1.7333333333333334, 'SSotomayor': 1.8387096774193548, 'CThomas': 1.3068181818181819, 'JGRoberts': 1.5405405405405406}\n",
            "{'SGBreyer': 1.488888888888889, 'SAAlito': 1.0952380952380953, 'ACBarrett': 1.0, 'BMKavanaugh': 1.0, 'NMGorsuch': 1.1428571428571428, 'EKagan': 1.5333333333333334, 'SSotomayor': 1.5789473684210527, 'CThomas': 1.2264150943396226, 'JGRoberts': 1.2083333333333333}\n",
            "{'SGBreyer': 1.6538461538461537, 'SAAlito': 1.55, 'ACBarrett': 1.5, 'BMKavanaugh': 1.5, 'NMGorsuch': 1.3333333333333333, 'EKagan': 1.8333333333333333, 'SSotomayor': 1.75, 'CThomas': 1.4838709677419355, 'JGRoberts': 1.5238095238095237}\n",
            "{'SGBreyer': 1.7346938775510203, 'SAAlito': 1.3214285714285714, 'ACBarrett': 1.5, 'BMKavanaugh': 1.6666666666666667, 'NMGorsuch': 1.4, 'EKagan': 1.7619047619047619, 'SSotomayor': 1.72, 'CThomas': 1.320754716981132, 'JGRoberts': 1.4137931034482758}\n",
            "{'SGBreyer': 1.508433734939759, 'SAAlito': 1.4124513618677044, 'ACBarrett': 1.2272727272727273, 'BMKavanaugh': 1.3898305084745763, 'NMGorsuch': 1.3506493506493507, 'EKagan': 1.5217391304347827, 'SSotomayor': 1.5226130653266332, 'CThomas': 1.4498977505112474, 'JGRoberts': 1.4334600760456273}\n",
            "{'SGBreyer': 1.4814814814814814, 'SAAlito': 1.388157894736842, 'ACBarrett': 1.3333333333333333, 'BMKavanaugh': 1.375, 'NMGorsuch': 1.3863636363636365, 'EKagan': 1.5154639175257731, 'SSotomayor': 1.5688073394495412, 'CThomas': 1.339080459770115, 'JGRoberts': 1.3821656050955413}\n",
            "{'SGBreyer': 1.6610169491525424, 'SAAlito': 1.5961538461538463, 'ACBarrett': 1.25, 'BMKavanaugh': 1.3846153846153846, 'NMGorsuch': 1.3571428571428572, 'EKagan': 1.6470588235294117, 'SSotomayor': 1.6341463414634145, 'CThomas': 1.4586466165413534, 'JGRoberts': 1.6545454545454545}\n",
            "{'SGBreyer': 1.5, 'SAAlito': 1.5, 'ACBarrett': 1.5, 'BMKavanaugh': 1.5, 'NMGorsuch': 1.5, 'EKagan': 1.5, 'SSotomayor': 1.5, 'CThomas': 1.5, 'JGRoberts': 1.5}\n",
            "{'SGBreyer': 1.7435897435897436, 'SAAlito': 1.625, 'ACBarrett': 1.0, 'BMKavanaugh': 1.3333333333333333, 'NMGorsuch': 1.0, 'EKagan': 1.6, 'SSotomayor': 1.75, 'CThomas': 1.5294117647058822, 'JGRoberts': 1.6875}\n",
            "{'SGBreyer': 1.25, 'SAAlito': 1.625, 'ACBarrett': 2.0, 'BMKavanaugh': 2.0, 'NMGorsuch': 2.0, 'EKagan': 1.5714285714285714, 'SSotomayor': 1.5, 'CThomas': 1.75, 'JGRoberts': 1.625}\n",
            "{'SGBreyer': 1.6666666666666667, 'SAAlito': 1.3333333333333333, 'ACBarrett': 2.0, 'BMKavanaugh': 2.0, 'NMGorsuch': 1.3333333333333333, 'EKagan': 1.6666666666666667, 'SSotomayor': 1.6666666666666667, 'CThomas': 1.3333333333333333, 'JGRoberts': 1.6666666666666667}\n"
          ]
        }
      ]
    },
    {
      "cell_type": "code",
      "source": [
        "issue9['SGBreyer']"
      ],
      "metadata": {
        "colab": {
          "base_uri": "https://localhost:8080/"
        },
        "id": "IqzdF_MILYXp",
        "outputId": "a7cfe093-644b-4678-c61d-203073239aec"
      },
      "execution_count": null,
      "outputs": [
        {
          "output_type": "execute_result",
          "data": {
            "text/plain": [
              "1.4814814814814814"
            ]
          },
          "metadata": {},
          "execution_count": 49
        }
      ]
    },
    {
      "cell_type": "code",
      "source": [
        "#Filter by Barrett to get all judges  CODED\n",
        "#Filter by specific caseid  CODED\n",
        "#Find the issue Area  CODED\n",
        "#Get the averages for each justice for the coorosponding issue area -1\n",
        "#If average is greater than 1.5 print liberal else print conservative for each justice\n",
        "#If liberal > Conservative print Descison is liberal\n",
        "#If conservative > liberal print Decision is conservative\n"
      ],
      "metadata": {
        "id": "Ow3M7zuQE_7m"
      },
      "execution_count": null,
      "outputs": []
    },
    {
      "cell_type": "code",
      "source": [
        "type(df['caseId'][0])"
      ],
      "metadata": {
        "colab": {
          "base_uri": "https://localhost:8080/"
        },
        "id": "yDeUiTHVDUj1",
        "outputId": "53778a5e-73cc-4718-dda4-3dd01bf0574e"
      },
      "execution_count": null,
      "outputs": [
        {
          "output_type": "execute_result",
          "data": {
            "text/plain": [
              "str"
            ]
          },
          "metadata": {},
          "execution_count": 13
        }
      ]
    },
    {
      "cell_type": "code",
      "source": [
        "#ASSIGNMENT: check if prediction = decision direction store as boolean\n"
      ],
      "metadata": {
        "id": "4AOQTegqT3fM"
      },
      "execution_count": null,
      "outputs": []
    },
    {
      "cell_type": "code",
      "source": [
        "#go through documentation to look for valuable variables \n",
        "#source for oral arguments\n"
      ],
      "metadata": {
        "id": "u7aQhxRd7LK_"
      },
      "execution_count": null,
      "outputs": []
    },
    {
      "cell_type": "code",
      "source": [
        "#https://www.supremecourt.gov/oral_arguments/argument_transcript/2022\n",
        "\n",
        "#Issue, Issue Area, Decision Direction, Justice Name/ID, Direction of the Individual Justice's Votes, Petitioner, SCDB Case ID\n",
        "#Source of Case, Formal Alteration of Precedent\n"
      ],
      "metadata": {
        "id": "z0829Il4e7zd"
      },
      "execution_count": null,
      "outputs": []
    },
    {
      "cell_type": "code",
      "source": [
        "df_new = df[['caseId','justiceName','petitioner', 'respondent', 'caseSource', 'caseOrigin', 'issue', 'issueArea','decisionDirection']]\n",
        "df_new"
      ],
      "metadata": {
        "colab": {
          "base_uri": "https://localhost:8080/",
          "height": 423
        },
        "id": "RsBY4Sq3JcPl",
        "outputId": "5bfbb3e0-1913-412f-a462-43402384b990"
      },
      "execution_count": null,
      "outputs": [
        {
          "output_type": "execute_result",
          "data": {
            "text/plain": [
              "         caseId   justiceName  petitioner  respondent  caseSource  caseOrigin  \\\n",
              "0      1946-001      HHBurton       198.0       172.0        29.0        51.0   \n",
              "1      1946-001     RHJackson       198.0       172.0        29.0        51.0   \n",
              "2      1946-001     WODouglas       198.0       172.0        29.0        51.0   \n",
              "3      1946-001  FFrankfurter       198.0       172.0        29.0        51.0   \n",
              "4      1946-001        SFReed       198.0       172.0        29.0        51.0   \n",
              "...         ...           ...         ...         ...         ...         ...   \n",
              "82010  2021-069    SSotomayor       422.0        28.0        25.0       120.0   \n",
              "82011  2021-069        EKagan       422.0        28.0        25.0       120.0   \n",
              "82012  2021-069     NMGorsuch       422.0        28.0        25.0       120.0   \n",
              "82013  2021-069   BMKavanaugh       422.0        28.0        25.0       120.0   \n",
              "82014  2021-069     ACBarrett       422.0        28.0        25.0       120.0   \n",
              "\n",
              "         issue  issueArea  decisionDirection  \n",
              "0      80180.0        8.0                2.0  \n",
              "1      80180.0        8.0                2.0  \n",
              "2      80180.0        8.0                2.0  \n",
              "3      80180.0        8.0                2.0  \n",
              "4      80180.0        8.0                2.0  \n",
              "...        ...        ...                ...  \n",
              "82010  20110.0        2.0                2.0  \n",
              "82011  20110.0        2.0                2.0  \n",
              "82012  20110.0        2.0                2.0  \n",
              "82013  20110.0        2.0                2.0  \n",
              "82014  20110.0        2.0                2.0  \n",
              "\n",
              "[82015 rows x 9 columns]"
            ],
            "text/html": [
              "\n",
              "  <div id=\"df-9a84bbfe-9d2e-4ffc-b1e1-a5b047bb189d\">\n",
              "    <div class=\"colab-df-container\">\n",
              "      <div>\n",
              "<style scoped>\n",
              "    .dataframe tbody tr th:only-of-type {\n",
              "        vertical-align: middle;\n",
              "    }\n",
              "\n",
              "    .dataframe tbody tr th {\n",
              "        vertical-align: top;\n",
              "    }\n",
              "\n",
              "    .dataframe thead th {\n",
              "        text-align: right;\n",
              "    }\n",
              "</style>\n",
              "<table border=\"1\" class=\"dataframe\">\n",
              "  <thead>\n",
              "    <tr style=\"text-align: right;\">\n",
              "      <th></th>\n",
              "      <th>caseId</th>\n",
              "      <th>justiceName</th>\n",
              "      <th>petitioner</th>\n",
              "      <th>respondent</th>\n",
              "      <th>caseSource</th>\n",
              "      <th>caseOrigin</th>\n",
              "      <th>issue</th>\n",
              "      <th>issueArea</th>\n",
              "      <th>decisionDirection</th>\n",
              "    </tr>\n",
              "  </thead>\n",
              "  <tbody>\n",
              "    <tr>\n",
              "      <th>0</th>\n",
              "      <td>1946-001</td>\n",
              "      <td>HHBurton</td>\n",
              "      <td>198.0</td>\n",
              "      <td>172.0</td>\n",
              "      <td>29.0</td>\n",
              "      <td>51.0</td>\n",
              "      <td>80180.0</td>\n",
              "      <td>8.0</td>\n",
              "      <td>2.0</td>\n",
              "    </tr>\n",
              "    <tr>\n",
              "      <th>1</th>\n",
              "      <td>1946-001</td>\n",
              "      <td>RHJackson</td>\n",
              "      <td>198.0</td>\n",
              "      <td>172.0</td>\n",
              "      <td>29.0</td>\n",
              "      <td>51.0</td>\n",
              "      <td>80180.0</td>\n",
              "      <td>8.0</td>\n",
              "      <td>2.0</td>\n",
              "    </tr>\n",
              "    <tr>\n",
              "      <th>2</th>\n",
              "      <td>1946-001</td>\n",
              "      <td>WODouglas</td>\n",
              "      <td>198.0</td>\n",
              "      <td>172.0</td>\n",
              "      <td>29.0</td>\n",
              "      <td>51.0</td>\n",
              "      <td>80180.0</td>\n",
              "      <td>8.0</td>\n",
              "      <td>2.0</td>\n",
              "    </tr>\n",
              "    <tr>\n",
              "      <th>3</th>\n",
              "      <td>1946-001</td>\n",
              "      <td>FFrankfurter</td>\n",
              "      <td>198.0</td>\n",
              "      <td>172.0</td>\n",
              "      <td>29.0</td>\n",
              "      <td>51.0</td>\n",
              "      <td>80180.0</td>\n",
              "      <td>8.0</td>\n",
              "      <td>2.0</td>\n",
              "    </tr>\n",
              "    <tr>\n",
              "      <th>4</th>\n",
              "      <td>1946-001</td>\n",
              "      <td>SFReed</td>\n",
              "      <td>198.0</td>\n",
              "      <td>172.0</td>\n",
              "      <td>29.0</td>\n",
              "      <td>51.0</td>\n",
              "      <td>80180.0</td>\n",
              "      <td>8.0</td>\n",
              "      <td>2.0</td>\n",
              "    </tr>\n",
              "    <tr>\n",
              "      <th>...</th>\n",
              "      <td>...</td>\n",
              "      <td>...</td>\n",
              "      <td>...</td>\n",
              "      <td>...</td>\n",
              "      <td>...</td>\n",
              "      <td>...</td>\n",
              "      <td>...</td>\n",
              "      <td>...</td>\n",
              "      <td>...</td>\n",
              "    </tr>\n",
              "    <tr>\n",
              "      <th>82010</th>\n",
              "      <td>2021-069</td>\n",
              "      <td>SSotomayor</td>\n",
              "      <td>422.0</td>\n",
              "      <td>28.0</td>\n",
              "      <td>25.0</td>\n",
              "      <td>120.0</td>\n",
              "      <td>20110.0</td>\n",
              "      <td>2.0</td>\n",
              "      <td>2.0</td>\n",
              "    </tr>\n",
              "    <tr>\n",
              "      <th>82011</th>\n",
              "      <td>2021-069</td>\n",
              "      <td>EKagan</td>\n",
              "      <td>422.0</td>\n",
              "      <td>28.0</td>\n",
              "      <td>25.0</td>\n",
              "      <td>120.0</td>\n",
              "      <td>20110.0</td>\n",
              "      <td>2.0</td>\n",
              "      <td>2.0</td>\n",
              "    </tr>\n",
              "    <tr>\n",
              "      <th>82012</th>\n",
              "      <td>2021-069</td>\n",
              "      <td>NMGorsuch</td>\n",
              "      <td>422.0</td>\n",
              "      <td>28.0</td>\n",
              "      <td>25.0</td>\n",
              "      <td>120.0</td>\n",
              "      <td>20110.0</td>\n",
              "      <td>2.0</td>\n",
              "      <td>2.0</td>\n",
              "    </tr>\n",
              "    <tr>\n",
              "      <th>82013</th>\n",
              "      <td>2021-069</td>\n",
              "      <td>BMKavanaugh</td>\n",
              "      <td>422.0</td>\n",
              "      <td>28.0</td>\n",
              "      <td>25.0</td>\n",
              "      <td>120.0</td>\n",
              "      <td>20110.0</td>\n",
              "      <td>2.0</td>\n",
              "      <td>2.0</td>\n",
              "    </tr>\n",
              "    <tr>\n",
              "      <th>82014</th>\n",
              "      <td>2021-069</td>\n",
              "      <td>ACBarrett</td>\n",
              "      <td>422.0</td>\n",
              "      <td>28.0</td>\n",
              "      <td>25.0</td>\n",
              "      <td>120.0</td>\n",
              "      <td>20110.0</td>\n",
              "      <td>2.0</td>\n",
              "      <td>2.0</td>\n",
              "    </tr>\n",
              "  </tbody>\n",
              "</table>\n",
              "<p>82015 rows × 9 columns</p>\n",
              "</div>\n",
              "      <button class=\"colab-df-convert\" onclick=\"convertToInteractive('df-9a84bbfe-9d2e-4ffc-b1e1-a5b047bb189d')\"\n",
              "              title=\"Convert this dataframe to an interactive table.\"\n",
              "              style=\"display:none;\">\n",
              "        \n",
              "  <svg xmlns=\"http://www.w3.org/2000/svg\" height=\"24px\"viewBox=\"0 0 24 24\"\n",
              "       width=\"24px\">\n",
              "    <path d=\"M0 0h24v24H0V0z\" fill=\"none\"/>\n",
              "    <path d=\"M18.56 5.44l.94 2.06.94-2.06 2.06-.94-2.06-.94-.94-2.06-.94 2.06-2.06.94zm-11 1L8.5 8.5l.94-2.06 2.06-.94-2.06-.94L8.5 2.5l-.94 2.06-2.06.94zm10 10l.94 2.06.94-2.06 2.06-.94-2.06-.94-.94-2.06-.94 2.06-2.06.94z\"/><path d=\"M17.41 7.96l-1.37-1.37c-.4-.4-.92-.59-1.43-.59-.52 0-1.04.2-1.43.59L10.3 9.45l-7.72 7.72c-.78.78-.78 2.05 0 2.83L4 21.41c.39.39.9.59 1.41.59.51 0 1.02-.2 1.41-.59l7.78-7.78 2.81-2.81c.8-.78.8-2.07 0-2.86zM5.41 20L4 18.59l7.72-7.72 1.47 1.35L5.41 20z\"/>\n",
              "  </svg>\n",
              "      </button>\n",
              "      \n",
              "  <style>\n",
              "    .colab-df-container {\n",
              "      display:flex;\n",
              "      flex-wrap:wrap;\n",
              "      gap: 12px;\n",
              "    }\n",
              "\n",
              "    .colab-df-convert {\n",
              "      background-color: #E8F0FE;\n",
              "      border: none;\n",
              "      border-radius: 50%;\n",
              "      cursor: pointer;\n",
              "      display: none;\n",
              "      fill: #1967D2;\n",
              "      height: 32px;\n",
              "      padding: 0 0 0 0;\n",
              "      width: 32px;\n",
              "    }\n",
              "\n",
              "    .colab-df-convert:hover {\n",
              "      background-color: #E2EBFA;\n",
              "      box-shadow: 0px 1px 2px rgba(60, 64, 67, 0.3), 0px 1px 3px 1px rgba(60, 64, 67, 0.15);\n",
              "      fill: #174EA6;\n",
              "    }\n",
              "\n",
              "    [theme=dark] .colab-df-convert {\n",
              "      background-color: #3B4455;\n",
              "      fill: #D2E3FC;\n",
              "    }\n",
              "\n",
              "    [theme=dark] .colab-df-convert:hover {\n",
              "      background-color: #434B5C;\n",
              "      box-shadow: 0px 1px 3px 1px rgba(0, 0, 0, 0.15);\n",
              "      filter: drop-shadow(0px 1px 2px rgba(0, 0, 0, 0.3));\n",
              "      fill: #FFFFFF;\n",
              "    }\n",
              "  </style>\n",
              "\n",
              "      <script>\n",
              "        const buttonEl =\n",
              "          document.querySelector('#df-9a84bbfe-9d2e-4ffc-b1e1-a5b047bb189d button.colab-df-convert');\n",
              "        buttonEl.style.display =\n",
              "          google.colab.kernel.accessAllowed ? 'block' : 'none';\n",
              "\n",
              "        async function convertToInteractive(key) {\n",
              "          const element = document.querySelector('#df-9a84bbfe-9d2e-4ffc-b1e1-a5b047bb189d');\n",
              "          const dataTable =\n",
              "            await google.colab.kernel.invokeFunction('convertToInteractive',\n",
              "                                                     [key], {});\n",
              "          if (!dataTable) return;\n",
              "\n",
              "          const docLinkHtml = 'Like what you see? Visit the ' +\n",
              "            '<a target=\"_blank\" href=https://colab.research.google.com/notebooks/data_table.ipynb>data table notebook</a>'\n",
              "            + ' to learn more about interactive tables.';\n",
              "          element.innerHTML = '';\n",
              "          dataTable['output_type'] = 'display_data';\n",
              "          await google.colab.output.renderOutput(dataTable, element);\n",
              "          const docLink = document.createElement('div');\n",
              "          docLink.innerHTML = docLinkHtml;\n",
              "          element.appendChild(docLink);\n",
              "        }\n",
              "      </script>\n",
              "    </div>\n",
              "  </div>\n",
              "  "
            ]
          },
          "metadata": {},
          "execution_count": 4
        }
      ]
    },
    {
      "cell_type": "code",
      "source": [
        "import numpy as np"
      ],
      "metadata": {
        "id": "RPd_-8lrOfm3"
      },
      "execution_count": null,
      "outputs": []
    },
    {
      "cell_type": "code",
      "source": [
        "from sklearn.model_selection import train_test_split\n",
        "from sklearn.neural_network import MLPClassifier\n",
        "from sklearn.metrics import confusion_matrix, accuracy_score\n",
        "\n",
        "df_filtered = df.dropna(subset=['issueArea', 'direction'])\n",
        "#create new dataframe the removes rows with missing values for issuearea and direction\n",
        "\n",
        "X = df_filtered['issueArea'].values.reshape(-1, 1)\n",
        "#defines input and reshaped into array with one column and as many rows as there are data points\n",
        "y = df_filtered['direction']\n",
        "#defines output\n",
        "\n",
        "X_train, X_test, y_train, y_test = train_test_split(X, y, test_size=0.3, random_state=42)\n",
        "# splits input and output variables into 2 sets each, testing set is 30% of the total data, random state ensures reproductibility\n",
        "#train is part of the data added that is used to compare to the test\n",
        "#hasnt see part of the data so it isn't 100% correct (data is split off only for training)\n",
        "\n",
        "mlp = MLPClassifier(random_state=42)\n",
        "# Create an MLPClassifier\n",
        "\n",
        "mlp.fit(X_train, y_train)\n",
        "# Train the classifier on the input and output variables of the training set\n",
        "\n",
        "y_pred = mlp.predict(X_test)\n",
        "# Get predictions on the output variable using the trained classifier and the input variable\n",
        "\n",
        "cm = confusion_matrix(y_test, y_pred)\n",
        "accuracy = accuracy_score(y_test, y_pred)\n",
        "# Compute the confusion matrix and accuracy of the predictions compared to true values of output variable.\n",
        "#confusion matrix gives the number of true positive, true negative, falso pos and flase negative\n",
        "#accuracy is the proportion of correct predictions out of all predictions\n",
        "\n",
        "# Print the confusion matrix and accuracy, diagonal should be bigger than top right and bottom left\n",
        "print(cm)\n",
        "print(accuracy)\n",
        "\n"
      ],
      "metadata": {
        "id": "NFA0zTgSLJwO",
        "colab": {
          "base_uri": "https://localhost:8080/"
        },
        "outputId": "5842e796-053e-46ec-99b6-3193faf57c52"
      },
      "execution_count": null,
      "outputs": [
        {
          "output_type": "stream",
          "name": "stdout",
          "text": [
            "[[4789 6229]\n",
            " [3820 8360]]\n",
            "0.5668161048366238\n"
          ]
        }
      ]
    },
    {
      "cell_type": "code",
      "source": [
        "catagorical_cols = ['justice', 'issue']"
      ],
      "metadata": {
        "id": "0WKvx8bp1pWA"
      },
      "execution_count": null,
      "outputs": []
    },
    {
      "cell_type": "code",
      "source": [
        "print(X_categorical[0])"
      ],
      "metadata": {
        "colab": {
          "base_uri": "https://localhost:8080/"
        },
        "id": "DNUE8NImzPl1",
        "outputId": "12f1f27e-a7d8-45e2-e939-babcf871f7ed"
      },
      "execution_count": null,
      "outputs": [
        {
          "output_type": "stream",
          "name": "stdout",
          "text": [
            "[0. 0. 0. 0. 0. 0. 0. 0. 0. 0. 0. 0. 0. 0. 0. 0. 0. 0. 0. 0. 0. 0. 0. 0.\n",
            " 0. 0. 0. 0. 0. 0. 0. 0. 0. 0. 0. 0. 0. 0. 0. 0. 0. 0. 0. 0. 0. 0. 0. 0.\n",
            " 0. 0. 0. 0. 0. 0. 0. 0. 0. 0. 0. 0. 0. 0. 0. 0. 0. 0. 0. 0. 0. 0. 0. 0.\n",
            " 0. 0. 0. 0. 0. 1. 0. 0. 0. 0. 0. 0. 0. 0. 0. 0. 0. 0. 0. 0. 0. 0. 0. 0.\n",
            " 0. 0. 0. 0. 0. 0. 0. 0. 0. 0. 0. 0. 0. 0. 0. 0. 0. 0. 0. 0. 0. 0. 0. 0.\n",
            " 0. 0. 0. 0. 0. 0. 0. 0. 0. 0. 0. 0. 0. 0. 0. 0. 0. 0. 0. 0. 0. 0. 0. 0.\n",
            " 0. 0. 0. 0. 0. 0. 0. 0. 0. 0. 0. 0. 0. 0. 0. 0. 0. 0. 0. 0. 0. 0. 0. 0.\n",
            " 0. 0. 0. 0. 0. 0. 0. 0. 0. 0. 0. 0. 0. 0. 0. 0. 0. 0. 0. 0. 0. 0. 0. 0.\n",
            " 0. 0. 0. 0. 0. 0. 0. 0. 0. 0. 0. 0. 0. 0. 0. 0. 0. 0. 0. 0. 0. 0. 0. 0.\n",
            " 0. 0. 0. 0. 0. 0. 0. 0. 0. 0. 0. 0. 0. 0. 0. 0. 0. 0. 0. 0. 0. 0. 0. 0.\n",
            " 0. 0. 0. 0. 0. 0. 0. 0. 0. 0. 0. 0. 0. 0. 0. 0. 0. 0. 0. 0. 0. 0. 0. 0.\n",
            " 0. 0. 0. 0. 0. 0. 0. 0. 0. 0. 0. 0. 0. 0. 0. 0. 0. 0. 0. 0. 0. 0. 0. 0.\n",
            " 0. 0. 0. 0. 0. 0. 0. 0. 0. 0. 0. 0. 0. 0. 0. 0. 0. 0. 0. 0. 0. 0. 0. 0.\n",
            " 0. 0. 0. 0. 0. 0. 0. 0. 0. 0. 0. 0. 0. 0. 0. 0. 0. 0. 0. 0. 0. 0. 0. 0.\n",
            " 0. 0. 0. 0. 0. 0. 0. 0. 0. 0. 0. 0. 0. 0. 0. 0. 0. 0. 0. 0. 0. 0. 0. 0.\n",
            " 0. 0. 0. 0. 0. 0. 0. 0. 0. 0. 0. 0. 0. 0. 0. 0. 0. 0. 0. 0. 0. 0. 0. 0.\n",
            " 0. 0. 0. 0. 0. 0. 0. 0. 0. 0. 0. 0. 0. 0. 0. 0. 0. 0. 0. 0. 0. 0. 0. 0.\n",
            " 0. 0. 0. 0. 0. 0. 0. 0. 0. 0. 0. 0. 0. 0. 0. 0. 0. 0. 0. 0. 0. 0. 0. 0.\n",
            " 0. 0. 0. 0. 0. 0. 0. 0. 0. 0. 0. 0. 0. 0. 0. 0. 0. 0. 0. 0. 0. 0. 0. 0.\n",
            " 0. 0. 0. 0. 0. 0. 0. 0. 0. 0. 0. 0. 0. 0. 0. 0. 0. 0. 0. 0. 0. 0. 0. 0.\n",
            " 0. 0. 0. 0. 0. 0. 0. 0. 0. 0. 0. 0. 0. 0. 0. 0. 0. 0. 0. 0. 0. 0. 0. 0.\n",
            " 0. 0. 0. 0. 0. 0. 0. 0. 0. 0. 0. 0. 0. 0. 0. 0. 0. 0. 0. 0. 0. 0. 0. 0.\n",
            " 0. 0. 0. 0. 0. 0. 0. 0. 0. 0. 0. 0. 0. 0. 0. 0. 0. 0. 0. 0. 0. 0. 0. 0.\n",
            " 0. 0. 0. 0. 0. 0. 0. 0. 0. 0. 0. 0. 0. 0. 0. 0. 0. 0. 0. 0. 0. 0. 0. 0.\n",
            " 0. 0. 0. 0. 0. 0. 0. 0. 0. 0. 0. 0. 0. 0. 0. 0. 0. 0. 0. 0. 0. 0. 0. 0.\n",
            " 0. 0.]\n"
          ]
        }
      ]
    },
    {
      "cell_type": "code",
      "source": [
        "from sklearn.preprocessing import StandardScaler, OrdinalEncoder, OneHotEncoder\n",
        "X_categorical = OneHotEncoder().fit_transform(df_filtered[catagorical_cols].values).toarray()\n",
        "#make new set in x (issue area/ all inputs) then transform into 2d array\n"
      ],
      "metadata": {
        "id": "Eco4y1DVvOc5"
      },
      "execution_count": null,
      "outputs": []
    },
    {
      "cell_type": "code",
      "source": [
        "from sklearn.model_selection import train_test_split\n",
        "from sklearn.neural_network import MLPClassifier\n",
        "from sklearn.metrics import confusion_matrix, accuracy_score\n",
        "\n",
        "df_filtered = df.dropna(subset=['justice', 'issue','direction'])\n",
        "#create new dataframe the removes rows with missing values for issuearea and direction\n",
        "\n",
        "X = df_filtered[['justice','issue']].values\n",
        "#defines input and reshaped into array with one column and as many rows as there are data points\n",
        "y = df_filtered['direction']\n",
        "#defines output\n",
        "\n",
        "X_train, X_test, y_train, y_test = train_test_split(X_categorical, y, test_size=0.3, random_state=42)\n",
        "# splits input and output variables into 2 sets each, testing set is 30% of the total data, random state ensures reproductibility\n",
        "#train is part of the data added that is used to compare to the test\n",
        "#hasnt see part of the data so it isn't 100% correct (data is split off only for training)\n",
        "\n",
        "mlp = MLPClassifier(random_state=42)\n",
        "# Create an MLPClassifier\n",
        "\n",
        "mlp.fit(X_train, y_train)\n",
        "# Train the classifier on the input and output variables of the training set\n",
        "\n",
        "y_pred = mlp.predict(X_test)\n",
        "# Get predictions on the output variable using the trained classifier and the input variable\n",
        "\n",
        "cm = confusion_matrix(y_test, y_pred)\n",
        "accuracy = accuracy_score(y_test, y_pred)\n",
        "# Compute the confusion matrix and accuracy of the predictions compared to true values of output variable.\n",
        "#confusion matrix gives the number of true positive, true negative, falso pos and flase negative\n",
        "#accuracy is the proportion of correct predictions out of all predictions\n",
        "\n",
        "# Print the confusion matrix and accuracy, diagonal should be bigger than top right and bottom left\n",
        "print(cm)\n",
        "print(accuracy)\n"
      ],
      "metadata": {
        "colab": {
          "base_uri": "https://localhost:8080/"
        },
        "id": "_3bQgDFM0H_q",
        "outputId": "c314769f-bf59-4626-ffb3-c6102ca407da"
      },
      "execution_count": null,
      "outputs": [
        {
          "output_type": "stream",
          "name": "stdout",
          "text": [
            "[[6848 4170]\n",
            " [3711 8469]]\n",
            "0.6602724372790758\n"
          ]
        }
      ]
    },
    {
      "cell_type": "code",
      "source": [
        "from sklearn.metrics import confusion_matrix, accuracy_score\n",
        "from sklearn.neural_network import MLPClassifier\n",
        "from sklearn.preprocessing import OneHotEncoder\n",
        "\n",
        "cm = confusion_matrix(y_test, y_pred)"
      ],
      "metadata": {
        "id": "jhJoizdwTKfI"
      },
      "execution_count": null,
      "outputs": []
    },
    {
      "cell_type": "code",
      "source": [
        "df['direction'].fillna(-1).unique()\n",
        "#fillna fills in missing values in direction column of df with -1 \n",
        "#returns an array of unique values in direction column\n",
        "#understand the distribution of values in direction column"
      ],
      "metadata": {
        "colab": {
          "base_uri": "https://localhost:8080/"
        },
        "id": "ru-Nh7WxR9V-",
        "outputId": "87665280-325e-40bf-a047-1ebe00eabaa3"
      },
      "execution_count": null,
      "outputs": [
        {
          "output_type": "execute_result",
          "data": {
            "text/plain": [
              "array([ 1.,  2., -1.])"
            ]
          },
          "metadata": {},
          "execution_count": 14
        }
      ]
    },
    {
      "cell_type": "code",
      "source": [
        "print(X_train.shape)   # should output (4, 2)\n",
        "print(y_train.shape)"
      ],
      "metadata": {
        "colab": {
          "base_uri": "https://localhost:8080/"
        },
        "id": "hBNMFkB7PqZY",
        "outputId": "6269fe28-76f3-43db-efe3-92a2aab8de31"
      },
      "execution_count": null,
      "outputs": [
        {
          "output_type": "stream",
          "name": "stdout",
          "text": [
            "(54127, 1)\n",
            "(54127,)\n"
          ]
        }
      ]
    },
    {
      "cell_type": "code",
      "source": [
        "#run code figure out what it is all doing, disect code, chatgpt explain each line, specify specific parts to understand everything, make sure it runs"
      ],
      "metadata": {
        "id": "y7HeM_FZWR06"
      },
      "execution_count": null,
      "outputs": []
    },
    {
      "cell_type": "code",
      "source": [
        "#sklearn website, mlp decision tree, knn. find best performing optimizer/classifier. focus on accuracy and f1 scores. Optimize hyper peramiters, call mlpclassifier(neorons(5,3,10)), shape tha give better outcomes\n",
        "#activation function, learning rate, look up how random search*** and grid search (optimizing hyper peramiters from sklean)"
      ],
      "metadata": {
        "id": "0e41DxHd77oW"
      },
      "execution_count": null,
      "outputs": []
    },
    {
      "cell_type": "code",
      "source": [
        "#download an oral argument, turn into string of text, isolate the text for each justice in the oral argument, code something something to get out text (parsing),\n",
        "#ex- look for roberts:"
      ],
      "metadata": {
        "id": "yK4Su2As9D7Y"
      },
      "execution_count": null,
      "outputs": []
    },
    {
      "cell_type": "code",
      "source": [
        "sentence = 'I love tech solutions.'\n",
        "beginning = sentence.split('tech')[0]"
      ],
      "metadata": {
        "id": "lvUcBskX9LFn"
      },
      "execution_count": null,
      "outputs": []
    },
    {
      "cell_type": "code",
      "source": [
        "print(beginning)"
      ],
      "metadata": {
        "colab": {
          "base_uri": "https://localhost:8080/"
        },
        "id": "BM43ZKro-QCw",
        "outputId": "34b998c7-041f-4a50-a37f-7e2522e249fd"
      },
      "execution_count": null,
      "outputs": [
        {
          "output_type": "stream",
          "name": "stdout",
          "text": [
            "I love \n"
          ]
        }
      ]
    },
    {
      "cell_type": "code",
      "source": [
        "%config NotebookApp.iopub_data_rate_limit = 10000000"
      ],
      "metadata": {
        "id": "Rl-kcSWNa3K4"
      },
      "execution_count": null,
      "outputs": []
    },
    {
      "cell_type": "code",
      "source": [
        "def remove_text_between(doc, start_str, end_str):\n",
        "    start_pos = doc.find(start_str)\n",
        "    end_pos = doc.find(end_str)\n",
        "\n",
        "    if start_pos == -1 or end_pos == -1:\n",
        "        return doc\n",
        "\n",
        "    return doc[:start_pos] + '' + doc[end_pos+len(end_str):]"
      ],
      "metadata": {
        "id": "7lbIW8mxYmW4"
      },
      "execution_count": null,
      "outputs": []
    },
    {
      "cell_type": "code",
      "source": [
        "url = \"https://www.supremecourt.gov/oral_arguments/argument_transcripts/2020/20-543_hgci.pdf\"\n",
        "response = requests.get(url)"
      ],
      "metadata": {
        "id": "J5Zg9fydYp8J"
      },
      "execution_count": null,
      "outputs": []
    },
    {
      "cell_type": "code",
      "source": [
        "soup = BeautifulSoup(response.content, \"html.parser\")\n",
        "text = soup.get_text()\n",
        "text = text.strip()\n",
        "\n",
        "print(text.encode('utf-8'))"
      ],
      "metadata": {
        "colab": {
          "base_uri": "https://localhost:8080/"
        },
        "id": "IkzZ23ZLYsvd",
        "outputId": "31e309fe-a91d-4506-b9f4-4ae997b29e1a"
      },
      "execution_count": null,
      "outputs": [
        {
          "output_type": "stream",
          "name": "stderr",
          "text": [
            "WARNING:bs4.dammit:Some characters could not be decoded, and were replaced with REPLACEMENT CHARACTER.\n",
            "IOPub data rate exceeded.\n",
            "The notebook server will temporarily stop sending output\n",
            "to the client in order to avoid crashing it.\n",
            "To change this limit, set the config variable\n",
            "`--NotebookApp.iopub_data_rate_limit`.\n",
            "\n",
            "Current values:\n",
            "NotebookApp.iopub_data_rate_limit=1000000.0 (bytes/sec)\n",
            "NotebookApp.rate_limit_window=3.0 (secs)\n",
            "\n"
          ]
        }
      ]
    },
    {
      "cell_type": "code",
      "source": [
        "print(text)"
      ],
      "metadata": {
        "id": "cL8EXYHXYud0"
      },
      "execution_count": null,
      "outputs": []
    },
    {
      "cell_type": "code",
      "source": [
        "pip install PyPDF2"
      ],
      "metadata": {
        "colab": {
          "base_uri": "https://localhost:8080/"
        },
        "id": "BwSKfsc1bnsO",
        "outputId": "f5f6151a-984f-497d-b2cf-dab55933584a"
      },
      "execution_count": null,
      "outputs": [
        {
          "output_type": "stream",
          "name": "stdout",
          "text": [
            "Looking in indexes: https://pypi.org/simple, https://us-python.pkg.dev/colab-wheels/public/simple/\n",
            "Collecting PyPDF2\n",
            "  Downloading pypdf2-3.0.1-py3-none-any.whl (232 kB)\n",
            "\u001b[2K     \u001b[90m━━━━━━━━━━━━━━━━━━━━━━━━━━━━━━━━━━━━━━━\u001b[0m \u001b[32m232.6/232.6 kB\u001b[0m \u001b[31m6.3 MB/s\u001b[0m eta \u001b[36m0:00:00\u001b[0m\n",
            "\u001b[?25hInstalling collected packages: PyPDF2\n",
            "Successfully installed PyPDF2-3.0.1\n"
          ]
        }
      ]
    },
    {
      "cell_type": "code",
      "source": [
        "import requests\n",
        "\n",
        "url = \"https://www.supremecourt.gov/oral_arguments/argument_transcripts/2020/20-543_hgci.pdf\"\n",
        "\n",
        "response = requests.get(url)\n",
        "\n",
        "with open(\"20-543_hgci.pdf\", \"wb\") as file:\n",
        "    file.write(response.content)"
      ],
      "metadata": {
        "id": "CzCCOaShcXmK"
      },
      "execution_count": null,
      "outputs": []
    },
    {
      "cell_type": "code",
      "source": [
        "import PyPDF2\n",
        "\n",
        "# Open the PDF file in read-binary mode\n",
        "with open('20-543_hgci.pdf', 'rb') as file:\n",
        "\n",
        "    # Create a PDF reader object\n",
        "    reader = PyPDF2.PdfReader(file)\n",
        "\n",
        "    # Get the total number of pages in the PDF file\n",
        "    num_pages = len(reader.pages)\n",
        "\n",
        "    # Extract text from each page\n",
        "    text = ''\n",
        "    for page in reader.pages:\n",
        "        text += page.extract_text()\n",
        "\n",
        "print(text)"
      ],
      "metadata": {
        "id": "IW2B9X6CbMj-"
      },
      "execution_count": null,
      "outputs": []
    },
    {
      "cell_type": "code",
      "source": [
        "text = text.strip().replace('\\n','').split(\"ROBERTS:\")"
      ],
      "metadata": {
        "id": "Xt02YpM7L6GI"
      },
      "execution_count": null,
      "outputs": []
    },
    {
      "cell_type": "code",
      "source": [
        "len(text)"
      ],
      "metadata": {
        "colab": {
          "base_uri": "https://localhost:8080/"
        },
        "id": "D3GnBG5JN2nn",
        "outputId": "9f19e17a-ad2d-4cff-f834-3884522afeb7"
      },
      "execution_count": null,
      "outputs": [
        {
          "output_type": "execute_result",
          "data": {
            "text/plain": [
              "47"
            ]
          },
          "metadata": {},
          "execution_count": 41
        }
      ]
    },
    {
      "cell_type": "code",
      "source": [
        "text2 = text[1].split(':')[0]\n",
        "text2"
      ],
      "metadata": {
        "colab": {
          "base_uri": "https://localhost:8080/",
          "height": 53
        },
        "id": "z3KWi5O6MxBo",
        "outputId": "39176053-5e82-4153-c49e-f25d364ba5ce"
      },
      "execution_count": null,
      "outputs": [
        {
          "output_type": "execute_result",
          "data": {
            "text/plain": [
              "'  We will hear argument first this morning in Case 20-543, Yellen versus the Confederated Tribes, and the consolidated case. Mr. Guarnieri. ORAL ARGUMENT OF MATTHEW GUARNIERI      ON BEHALF OF THE PETITIONER IN CASE NO. 20-543 MR. GUARNIERI'"
            ],
            "application/vnd.google.colaboratory.intrinsic+json": {
              "type": "string"
            }
          },
          "metadata": {},
          "execution_count": 60
        }
      ]
    },
    {
      "cell_type": "code",
      "source": [
        "df = pd.DataFrame(columns=['words'])"
      ],
      "metadata": {
        "id": "l8lGvl_EOyuw"
      },
      "execution_count": null,
      "outputs": []
    },
    {
      "cell_type": "code",
      "source": [
        "\n",
        "new_list = []\n",
        "for i in range(1,47):\n",
        "  if i == 0:\n",
        "    pass\n",
        "  text3 = text[i].split(':')[0]\n",
        "  new_list.append(text3)\n",
        "len(new_list)\n",
        "#new_list"
      ],
      "metadata": {
        "colab": {
          "base_uri": "https://localhost:8080/"
        },
        "id": "HTXK4K5SMqIi",
        "outputId": "85cf8ca9-486e-4cc6-941d-518f6c3cbe1a"
      },
      "execution_count": null,
      "outputs": [
        {
          "output_type": "execute_result",
          "data": {
            "text/plain": [
              "46"
            ]
          },
          "metadata": {},
          "execution_count": 67
        }
      ]
    },
    {
      "cell_type": "code",
      "source": [
        "\n",
        "\n",
        "# Create a new empty dataframe with one column\n",
        "df = pd.DataFrame(columns=['words'])\n",
        "\n",
        "# Create a new list of words\n",
        "\n",
        "\n",
        "# Add a new row to the dataframe with the list of words as its value\n",
        "df.loc[len(df)] = [new_list]\n",
        "\n",
        "# Print the resulting dataframe\n",
        "print(df)\n"
      ],
      "metadata": {
        "colab": {
          "base_uri": "https://localhost:8080/"
        },
        "id": "g8PPic0iThbO",
        "outputId": "392c3c86-321b-437d-94f3-eedd55ed2f22"
      },
      "execution_count": null,
      "outputs": [
        {
          "output_type": "stream",
          "name": "stdout",
          "text": [
            "                                               words\n",
            "0  [  We will hear argument first this morning in...\n"
          ]
        }
      ]
    },
    {
      "cell_type": "code",
      "source": [
        "df['words'][0][2]"
      ],
      "metadata": {
        "colab": {
          "base_uri": "https://localhost:8080/",
          "height": 36
        },
        "id": "MOK96Pv4V94i",
        "outputId": "8d4092c1-89cd-4981-c57b-4f2fcbdb6908"
      },
      "execution_count": null,
      "outputs": [
        {
          "output_type": "execute_result",
          "data": {
            "text/plain": [
              "'  Thank you, counsel. Justice Thomas. JUSTICE THOMAS'"
            ],
            "application/vnd.google.colaboratory.intrinsic+json": {
              "type": "string"
            }
          },
          "metadata": {},
          "execution_count": 80
        }
      ]
    },
    {
      "cell_type": "code",
      "source": [
        "list"
      ],
      "metadata": {
        "colab": {
          "base_uri": "https://localhost:8080/"
        },
        "id": "Wl2SWFEnQ27E",
        "outputId": "5d579cd9-3578-455a-9b2a-29ee6f81da81"
      },
      "execution_count": null,
      "outputs": [
        {
          "output_type": "execute_result",
          "data": {
            "text/plain": [
              "['  --thank you, counsel. The case is submitted. (Whereupon, at 11:44 a.m., the case was submitted.) Heritage Reporting Corporation ˘#˚˙ %˚˘(˘˚˙ %˚9!˜˚˜!16?4816@7>%˘˚3,A?743˜ˆ˙ %˚˜$˜!˚˙ %˚˜$˜!˚ #˜˜$˜!˚˛&˝#\"˜$˜!˚(&˜!˜˜#˜!\"˚˜#˛˝!˜˛˚˜#˛˝˛˚˝#˛˜!ˆ˜%˝˘!˚ %%˝˛˚6\\'˘˚ˆ˘#˚ˆ %˝)˚ˆ %˝)˚˝#\"< #%˘˚ˆ #˜˚# ˙ %˚ !%˝#˘!˚469348,,#˚%˜!, ˛ ˆ˘˚ !˛&˜ !˚˛&˜˚.$˜˛ %˘˚˛!˚˛!˚˝#\"$˘!˝˜˛˚(˘˚˚˜˘!']"
            ]
          },
          "metadata": {},
          "execution_count": 51
        }
      ]
    },
    {
      "cell_type": "code",
      "source": [
        "nin = text.split('CHIEF JUSTICE ROBERTS')[0]"
      ],
      "metadata": {
        "id": "JZn52ZO8c8yo",
        "colab": {
          "base_uri": "https://localhost:8080/",
          "height": 165
        },
        "outputId": "e846f81b-39b7-4e83-b5c9-ea2089f383bc"
      },
      "execution_count": null,
      "outputs": [
        {
          "output_type": "error",
          "ename": "NameError",
          "evalue": "ignored",
          "traceback": [
            "\u001b[0;31m---------------------------------------------------------------------------\u001b[0m",
            "\u001b[0;31mNameError\u001b[0m                                 Traceback (most recent call last)",
            "\u001b[0;32m<ipython-input-1-b9f385bbb64c>\u001b[0m in \u001b[0;36m<cell line: 1>\u001b[0;34m()\u001b[0m\n\u001b[0;32m----> 1\u001b[0;31m \u001b[0mnin\u001b[0m \u001b[0;34m=\u001b[0m \u001b[0mtext\u001b[0m\u001b[0;34m.\u001b[0m\u001b[0msplit\u001b[0m\u001b[0;34m(\u001b[0m\u001b[0;34m'CHIEF JUSTICE ROBERTS'\u001b[0m\u001b[0;34m)\u001b[0m\u001b[0;34m[\u001b[0m\u001b[0;36m0\u001b[0m\u001b[0;34m]\u001b[0m\u001b[0;34m\u001b[0m\u001b[0;34m\u001b[0m\u001b[0m\n\u001b[0m",
            "\u001b[0;31mNameError\u001b[0m: name 'text' is not defined"
          ]
        }
      ]
    },
    {
      "cell_type": "code",
      "source": [
        "print(nin)"
      ],
      "metadata": {
        "id": "wtm8GGOHdSAQ"
      },
      "execution_count": null,
      "outputs": []
    },
    {
      "cell_type": "code",
      "source": [
        "!pip install PyPDF4"
      ],
      "metadata": {
        "colab": {
          "base_uri": "https://localhost:8080/"
        },
        "id": "568lPsu9d9kj",
        "outputId": "10eda7c7-6ec6-4e9d-b672-6ae8d40fbb85"
      },
      "execution_count": null,
      "outputs": [
        {
          "output_type": "stream",
          "name": "stdout",
          "text": [
            "Looking in indexes: https://pypi.org/simple, https://us-python.pkg.dev/colab-wheels/public/simple/\n",
            "Collecting PyPDF4\n",
            "  Downloading PyPDF4-1.27.0.tar.gz (63 kB)\n",
            "\u001b[2K     \u001b[90m━━━━━━━━━━━━━━━━━━━━━━━━━━━━━━━━━━━━━━━━\u001b[0m \u001b[32m63.9/63.9 kB\u001b[0m \u001b[31m4.4 MB/s\u001b[0m eta \u001b[36m0:00:00\u001b[0m\n",
            "\u001b[?25h  Preparing metadata (setup.py) ... \u001b[?25l\u001b[?25hdone\n",
            "Building wheels for collected packages: PyPDF4\n",
            "  Building wheel for PyPDF4 (setup.py) ... \u001b[?25l\u001b[?25hdone\n",
            "  Created wheel for PyPDF4: filename=PyPDF4-1.27.0-py3-none-any.whl size=61246 sha256=9c7b93c17e33d2930ae98b10013de6bc164e7a9bfd91861fec4a6d0539972bbd\n",
            "  Stored in directory: /root/.cache/pip/wheels/83/cc/14/cb307e5c99235c4497c7895cdb60b4f7ba2a738b6a5fc0d423\n",
            "Successfully built PyPDF4\n",
            "Installing collected packages: PyPDF4\n",
            "Successfully installed PyPDF4-1.27.0\n"
          ]
        }
      ]
    },
    {
      "cell_type": "code",
      "source": [
        "!pip install pdfminer\n"
      ],
      "metadata": {
        "colab": {
          "base_uri": "https://localhost:8080/"
        },
        "id": "nN9TpseNjhwJ",
        "outputId": "58699ff7-4453-4d10-acc4-1e9bc98cfce8"
      },
      "execution_count": null,
      "outputs": [
        {
          "output_type": "stream",
          "name": "stdout",
          "text": [
            "Looking in indexes: https://pypi.org/simple, https://us-python.pkg.dev/colab-wheels/public/simple/\n",
            "Collecting pdfminer\n",
            "  Downloading pdfminer-20191125.tar.gz (4.2 MB)\n",
            "\u001b[2K     \u001b[90m━━━━━━━━━━━━━━━━━━━━━━━━━━━━━━━━━━━━━━━━\u001b[0m \u001b[32m4.2/4.2 MB\u001b[0m \u001b[31m50.4 MB/s\u001b[0m eta \u001b[36m0:00:00\u001b[0m\n",
            "\u001b[?25h  Preparing metadata (setup.py) ... \u001b[?25l\u001b[?25hdone\n",
            "Collecting pycryptodome\n",
            "  Downloading pycryptodome-3.17-cp35-abi3-manylinux_2_17_x86_64.manylinux2014_x86_64.whl (2.1 MB)\n",
            "\u001b[2K     \u001b[90m━━━━━━━━━━━━━━━━━━━━━━━━━━━━━━━━━━━━━━━━\u001b[0m \u001b[32m2.1/2.1 MB\u001b[0m \u001b[31m81.3 MB/s\u001b[0m eta \u001b[36m0:00:00\u001b[0m\n",
            "\u001b[?25hBuilding wheels for collected packages: pdfminer\n",
            "  Building wheel for pdfminer (setup.py) ... \u001b[?25l\u001b[?25hdone\n",
            "  Created wheel for pdfminer: filename=pdfminer-20191125-py3-none-any.whl size=6140073 sha256=b7b46c7b28c3ebb2d19048bd2bf2585dd1ca2c380620a4a4d0c7a661df8284ab\n",
            "  Stored in directory: /root/.cache/pip/wheels/4e/c1/68/f7bd0a8f514661f76b5cbe3b5f76e0033d79f1296012cbbf72\n",
            "Successfully built pdfminer\n",
            "Installing collected packages: pycryptodome, pdfminer\n",
            "Successfully installed pdfminer-20191125 pycryptodome-3.17\n"
          ]
        }
      ]
    },
    {
      "cell_type": "code",
      "source": [
        "!pip install pikepdf"
      ],
      "metadata": {
        "colab": {
          "base_uri": "https://localhost:8080/",
          "height": 398
        },
        "id": "ljY6WHn0kB0i",
        "outputId": "386ee685-1e94-4769-b57f-79f274912516"
      },
      "execution_count": null,
      "outputs": [
        {
          "output_type": "stream",
          "name": "stdout",
          "text": [
            "Looking in indexes: https://pypi.org/simple, https://us-python.pkg.dev/colab-wheels/public/simple/\n",
            "Collecting pikepdf\n",
            "  Downloading pikepdf-7.2.0-cp310-cp310-manylinux_2_17_x86_64.manylinux2014_x86_64.whl (2.3 MB)\n",
            "\u001b[2K     \u001b[90m━━━━━━━━━━━━━━━━━━━━━━━━━━━━━━━━━━━━━━━━\u001b[0m \u001b[32m2.3/2.3 MB\u001b[0m \u001b[31m64.0 MB/s\u001b[0m eta \u001b[36m0:00:00\u001b[0m\n",
            "\u001b[?25hCollecting deprecation\n",
            "  Downloading deprecation-2.1.0-py2.py3-none-any.whl (11 kB)\n",
            "Requirement already satisfied: packaging in /usr/local/lib/python3.10/dist-packages (from pikepdf) (23.1)\n",
            "Requirement already satisfied: lxml>=4.8 in /usr/local/lib/python3.10/dist-packages (from pikepdf) (4.9.2)\n",
            "Collecting Pillow>=9.0\n",
            "  Downloading Pillow-9.5.0-cp310-cp310-manylinux_2_28_x86_64.whl (3.4 MB)\n",
            "\u001b[2K     \u001b[90m━━━━━━━━━━━━━━━━━━━━━━━━━━━━━━━━━━━━━━━━\u001b[0m \u001b[32m3.4/3.4 MB\u001b[0m \u001b[31m78.3 MB/s\u001b[0m eta \u001b[36m0:00:00\u001b[0m\n",
            "\u001b[?25hInstalling collected packages: Pillow, deprecation, pikepdf\n",
            "  Attempting uninstall: Pillow\n",
            "    Found existing installation: Pillow 8.4.0\n",
            "    Uninstalling Pillow-8.4.0:\n",
            "      Successfully uninstalled Pillow-8.4.0\n",
            "Successfully installed Pillow-9.5.0 deprecation-2.1.0 pikepdf-7.2.0\n"
          ]
        },
        {
          "output_type": "display_data",
          "data": {
            "application/vnd.colab-display-data+json": {
              "pip_warning": {
                "packages": [
                  "PIL"
                ]
              }
            }
          },
          "metadata": {}
        }
      ]
    },
    {
      "cell_type": "code",
      "source": [
        "import PyPDF4\n",
        "\n",
        "# Open the PDF file in read-binary mode\n",
        "with open('20-543_hgci.pdf', 'rb') as file:\n",
        "\n",
        "    # Create a PDF reader object\n",
        "    reader = PyPDF4.PdfFileReader(file)\n",
        "\n",
        "    # Extract text from all pages\n",
        "    text = ''\n",
        "    for i in range(reader.getNumPages()):\n",
        "        page = reader.getPage(i)\n",
        "        text += page.extractText()\n",
        "\n",
        "    # Split text into lines\n",
        "    lines = text.split('\\n')\n",
        "\n",
        "    # Flag to indicate whether to record\n",
        "    record = False\n",
        "\n",
        "    # Loop over lines and record if necessary\n",
        "    for line in lines:\n",
        "        if 'ROBERTS:' in line:\n",
        "            record = True\n",
        "        if 'JUSTICE' in line and 'ROBERTS' not in line:\n",
        "            record = False\n",
        "        if record:\n",
        "            print(line)\n",
        "            if 'MR.' in line or 'MRS.' in line:\n",
        "                record = False\n"
      ],
      "metadata": {
        "id": "wSHPfe3qd6Fc"
      },
      "execution_count": null,
      "outputs": []
    },
    {
      "cell_type": "code",
      "source": [
        "type(text)"
      ],
      "metadata": {
        "id": "IklAanQWKu6Z",
        "outputId": "b4850cfd-d67a-449d-ad63-cdfa96c6240a",
        "colab": {
          "base_uri": "https://localhost:8080/",
          "height": 165
        }
      },
      "execution_count": null,
      "outputs": [
        {
          "output_type": "error",
          "ename": "NameError",
          "evalue": "ignored",
          "traceback": [
            "\u001b[0;31m---------------------------------------------------------------------------\u001b[0m",
            "\u001b[0;31mNameError\u001b[0m                                 Traceback (most recent call last)",
            "\u001b[0;32m<ipython-input-19-d31928c2d799>\u001b[0m in \u001b[0;36m<cell line: 1>\u001b[0;34m()\u001b[0m\n\u001b[0;32m----> 1\u001b[0;31m \u001b[0mtype\u001b[0m\u001b[0;34m(\u001b[0m\u001b[0mtext\u001b[0m\u001b[0;34m)\u001b[0m\u001b[0;34m\u001b[0m\u001b[0;34m\u001b[0m\u001b[0m\n\u001b[0m",
            "\u001b[0;31mNameError\u001b[0m: name 'text' is not defined"
          ]
        }
      ]
    },
    {
      "cell_type": "code",
      "source": [
        "test = text.replace('\\n','')\n",
        "test.split('JUSTICE ROBERTS:')\n",
        "new_list = [item for item in test if item.strip()and any(c.isalpha() for c in item)]\n",
        "phrases = test.split('JUSTICE ROBERTS:')[1:]\n",
        "\n",
        "len(new_list)"
      ],
      "metadata": {
        "colab": {
          "base_uri": "https://localhost:8080/",
          "height": 235
        },
        "id": "lgky-xdPHj2S",
        "outputId": "a6b2a7d6-cbd3-455f-9947-0f3eddc899d9"
      },
      "execution_count": null,
      "outputs": [
        {
          "output_type": "error",
          "ename": "NameError",
          "evalue": "ignored",
          "traceback": [
            "\u001b[0;31m---------------------------------------------------------------------------\u001b[0m",
            "\u001b[0;31mNameError\u001b[0m                                 Traceback (most recent call last)",
            "\u001b[0;32m<ipython-input-18-36ee1719efbc>\u001b[0m in \u001b[0;36m<cell line: 1>\u001b[0;34m()\u001b[0m\n\u001b[0;32m----> 1\u001b[0;31m \u001b[0mtest\u001b[0m \u001b[0;34m=\u001b[0m \u001b[0mtext\u001b[0m\u001b[0;34m.\u001b[0m\u001b[0mreplace\u001b[0m\u001b[0;34m(\u001b[0m\u001b[0;34m'\\n'\u001b[0m\u001b[0;34m,\u001b[0m\u001b[0;34m''\u001b[0m\u001b[0;34m)\u001b[0m\u001b[0;34m\u001b[0m\u001b[0;34m\u001b[0m\u001b[0m\n\u001b[0m\u001b[1;32m      2\u001b[0m \u001b[0mtest\u001b[0m\u001b[0;34m.\u001b[0m\u001b[0msplit\u001b[0m\u001b[0;34m(\u001b[0m\u001b[0;34m'JUSTICE ROBERTS:'\u001b[0m\u001b[0;34m)\u001b[0m\u001b[0;34m\u001b[0m\u001b[0;34m\u001b[0m\u001b[0m\n\u001b[1;32m      3\u001b[0m \u001b[0mnew_list\u001b[0m \u001b[0;34m=\u001b[0m \u001b[0;34m[\u001b[0m\u001b[0mitem\u001b[0m \u001b[0;32mfor\u001b[0m \u001b[0mitem\u001b[0m \u001b[0;32min\u001b[0m \u001b[0mtest\u001b[0m \u001b[0;32mif\u001b[0m \u001b[0mitem\u001b[0m\u001b[0;34m.\u001b[0m\u001b[0mstrip\u001b[0m\u001b[0;34m(\u001b[0m\u001b[0;34m)\u001b[0m\u001b[0;32mand\u001b[0m \u001b[0many\u001b[0m\u001b[0;34m(\u001b[0m\u001b[0mc\u001b[0m\u001b[0;34m.\u001b[0m\u001b[0misalpha\u001b[0m\u001b[0;34m(\u001b[0m\u001b[0;34m)\u001b[0m \u001b[0;32mfor\u001b[0m \u001b[0mc\u001b[0m \u001b[0;32min\u001b[0m \u001b[0mitem\u001b[0m\u001b[0;34m)\u001b[0m\u001b[0;34m]\u001b[0m\u001b[0;34m\u001b[0m\u001b[0;34m\u001b[0m\u001b[0m\n\u001b[1;32m      4\u001b[0m \u001b[0mphrases\u001b[0m \u001b[0;34m=\u001b[0m \u001b[0mtest\u001b[0m\u001b[0;34m.\u001b[0m\u001b[0msplit\u001b[0m\u001b[0;34m(\u001b[0m\u001b[0;34m'JUSTICE ROBERTS:'\u001b[0m\u001b[0;34m)\u001b[0m\u001b[0;34m[\u001b[0m\u001b[0;36m1\u001b[0m\u001b[0;34m:\u001b[0m\u001b[0;34m]\u001b[0m\u001b[0;34m\u001b[0m\u001b[0;34m\u001b[0m\u001b[0m\n\u001b[1;32m      5\u001b[0m \u001b[0;34m\u001b[0m\u001b[0m\n",
            "\u001b[0;31mNameError\u001b[0m: name 'text' is not defined"
          ]
        }
      ]
    },
    {
      "cell_type": "code",
      "source": [
        "new_list"
      ],
      "metadata": {
        "id": "RCGqFLaOerjH"
      },
      "execution_count": null,
      "outputs": []
    },
    {
      "cell_type": "code",
      "source": [
        "#create a subset of data that is modern court barret() data\n",
        "#add columns to that data frame, words and then word embeddings\n",
        "#find every oral argument for every case in that dataframe\n",
        "#for every case, find everything that every justice says (put in a list) in each case and add it to right cell for specific case\n",
        "#take the column then convert to embeddings, then add embeddings to data frame\n",
        "#train model on word embeddings and all other useful variables\n",
        "\n",
        "#talk about initial data set and based on feature\n",
        "#create new feature to data frame with new feature\n",
        "#train nueralnetwork \n",
        "\n",
        "\n",
        "#download all data by monday evening"
      ],
      "metadata": {
        "id": "G8KejG1eXYkm"
      },
      "execution_count": null,
      "outputs": []
    }
  ]
}